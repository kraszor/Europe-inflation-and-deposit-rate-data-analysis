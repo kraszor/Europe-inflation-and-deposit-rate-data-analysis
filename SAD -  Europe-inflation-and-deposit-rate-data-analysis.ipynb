{
 "cells": [
  {
   "cell_type": "code",
   "execution_count": 39,
   "id": "bcd9c9d8",
   "metadata": {},
   "outputs": [],
   "source": [
    "# Loading necessary libraries\n",
    "library(\"tidyverse\")\n",
    "library(\"caret\")"
   ]
  },
  {
   "cell_type": "code",
   "execution_count": 40,
   "id": "1d312295",
   "metadata": {},
   "outputs": [
    {
     "data": {
      "text/html": [
       "<style>\n",
       ".list-inline {list-style: none; margin:0; padding: 0}\n",
       ".list-inline>li {display: inline-block}\n",
       ".list-inline>li:not(:last-child)::after {content: \"\\00b7\"; padding: 0 .5ex}\n",
       "</style>\n",
       "<ol class=list-inline><li>'Data Source in SDW: https://sdw.ecb.europa.eu/browse.do?node=9691394'</li><li>',MIR.M.AT.B.L22.F.R.A.2250.EUR.N,MIR.M.BE.B.L22.F.R.A.2250.EUR.N,MIR.M.BG.B.L22.F.R.A.2250.BGN.N,MIR.M.CY.B.L22.F.R.A.2250.EUR.N,MIR.M.CZ.B.L22.F.R.A.2250.CZK.N,MIR.M.DE.B.L22.F.R.A.2250.EUR.N,MIR.M.DK.B.L22.F.R.A.2250.DKK.N,MIR.M.EE.B.L22.F.R.A.2250.EEK.N,MIR.M.EE.B.L22.F.R.A.2250.EUR.N,MIR.M.ES.B.L22.F.R.A.2250.EUR.N,MIR.M.FI.B.L22.F.R.A.2250.EUR.N,MIR.M.FR.B.L22.F.R.A.2250.EUR.N,MIR.M.GR.B.L22.F.R.A.2250.EUR.N,MIR.M.HR.B.L22.F.R.A.2250.HRK.N,MIR.M.HU.B.L22.F.R.A.2250.HUF.N,MIR.M.IE.B.L22.F.R.A.2250.EUR.N,MIR.M.IT.B.L22.F.R.A.2250.EUR.N,MIR.M.LT.B.L22.F.R.A.2250.EUR.N,MIR.M.LT.B.L22.F.R.A.2250.LTL.N,MIR.M.LU.B.L22.F.R.A.2250.EUR.N,MIR.M.LV.B.L22.F.R.A.2250.EUR.N,MIR.M.LV.B.L22.F.R.A.2250.LVL.N,MIR.M.MT.B.L22.F.R.A.2250.EUR.N,MIR.M.MT.B.L22.F.R.A.2250.MTL.N,MIR.M.NL.B.L22.F.R.A.2250.EUR.N,MIR.M.PL.B.L22.F.R.A.2250.PLN.N,MIR.M.PT.B.L22.F.R.A.2250.EUR.N,MIR.M.RO.B.L22.F.R.A.2250.RON.N,MIR.M.SE.B.L22.F.R.A.2250.SEK.N,MIR.M.SI.B.L22.F.R.A.2250.EUR.N,MIR.M.SI.B.L22.F.R.A.2250.SIT.N,MIR.M.SK.B.L22.F.R.A.2250.EUR.N,MIR.M.SK.B.L22.F.R.A.2250.SKK.N'</li><li>',\"Austria, Euro\",\"Belgium, Euro\",\"Bulgaria, Bulgarian lev\",\"Cyprus, Euro\",\"Czech Republic, Czech koruna\",\"Germany, Euro\",\"Denmark, Danish krone\",\"Estonia, Estonian kroon\",\"Estonia, Euro\",\"Spain, Euro\",\"Finland, Euro\",\"France, Euro\",\"Greece, Euro\",\"Croatia, Croatian kuna\",\"Hungary, Hungarian forint\",\"Ireland, Euro\",\"Italy, Euro\",\"Lithuania, Euro\",\"Lithuania, Lithuanian litas\",\"Luxembourg, Euro\",\"Latvia, Euro\",\"Latvia, Latvian lats\",\"Malta, Euro\",\"Malta, Maltese lira\",\"Netherlands, Euro\",\"Poland, Polish zloty\",\"Portugal, Euro\",\"Romania, Romanian leu\",\"Sweden, Swedish krona\",\"Slovenia, Euro\",\"Slovenia, Slovenian tolar\",\"Slovakia, Euro\",\"Slovakia, Slovak koruna\"'</li></ol>\n"
      ],
      "text/latex": [
       "\\begin{enumerate*}\n",
       "\\item 'Data Source in SDW: https://sdw.ecb.europa.eu/browse.do?node=9691394'\n",
       "\\item ',MIR.M.AT.B.L22.F.R.A.2250.EUR.N,MIR.M.BE.B.L22.F.R.A.2250.EUR.N,MIR.M.BG.B.L22.F.R.A.2250.BGN.N,MIR.M.CY.B.L22.F.R.A.2250.EUR.N,MIR.M.CZ.B.L22.F.R.A.2250.CZK.N,MIR.M.DE.B.L22.F.R.A.2250.EUR.N,MIR.M.DK.B.L22.F.R.A.2250.DKK.N,MIR.M.EE.B.L22.F.R.A.2250.EEK.N,MIR.M.EE.B.L22.F.R.A.2250.EUR.N,MIR.M.ES.B.L22.F.R.A.2250.EUR.N,MIR.M.FI.B.L22.F.R.A.2250.EUR.N,MIR.M.FR.B.L22.F.R.A.2250.EUR.N,MIR.M.GR.B.L22.F.R.A.2250.EUR.N,MIR.M.HR.B.L22.F.R.A.2250.HRK.N,MIR.M.HU.B.L22.F.R.A.2250.HUF.N,MIR.M.IE.B.L22.F.R.A.2250.EUR.N,MIR.M.IT.B.L22.F.R.A.2250.EUR.N,MIR.M.LT.B.L22.F.R.A.2250.EUR.N,MIR.M.LT.B.L22.F.R.A.2250.LTL.N,MIR.M.LU.B.L22.F.R.A.2250.EUR.N,MIR.M.LV.B.L22.F.R.A.2250.EUR.N,MIR.M.LV.B.L22.F.R.A.2250.LVL.N,MIR.M.MT.B.L22.F.R.A.2250.EUR.N,MIR.M.MT.B.L22.F.R.A.2250.MTL.N,MIR.M.NL.B.L22.F.R.A.2250.EUR.N,MIR.M.PL.B.L22.F.R.A.2250.PLN.N,MIR.M.PT.B.L22.F.R.A.2250.EUR.N,MIR.M.RO.B.L22.F.R.A.2250.RON.N,MIR.M.SE.B.L22.F.R.A.2250.SEK.N,MIR.M.SI.B.L22.F.R.A.2250.EUR.N,MIR.M.SI.B.L22.F.R.A.2250.SIT.N,MIR.M.SK.B.L22.F.R.A.2250.EUR.N,MIR.M.SK.B.L22.F.R.A.2250.SKK.N'\n",
       "\\item ',\"Austria, Euro\",\"Belgium, Euro\",\"Bulgaria, Bulgarian lev\",\"Cyprus, Euro\",\"Czech Republic, Czech koruna\",\"Germany, Euro\",\"Denmark, Danish krone\",\"Estonia, Estonian kroon\",\"Estonia, Euro\",\"Spain, Euro\",\"Finland, Euro\",\"France, Euro\",\"Greece, Euro\",\"Croatia, Croatian kuna\",\"Hungary, Hungarian forint\",\"Ireland, Euro\",\"Italy, Euro\",\"Lithuania, Euro\",\"Lithuania, Lithuanian litas\",\"Luxembourg, Euro\",\"Latvia, Euro\",\"Latvia, Latvian lats\",\"Malta, Euro\",\"Malta, Maltese lira\",\"Netherlands, Euro\",\"Poland, Polish zloty\",\"Portugal, Euro\",\"Romania, Romanian leu\",\"Sweden, Swedish krona\",\"Slovenia, Euro\",\"Slovenia, Slovenian tolar\",\"Slovakia, Euro\",\"Slovakia, Slovak koruna\"'\n",
       "\\end{enumerate*}\n"
      ],
      "text/markdown": [
       "1. 'Data Source in SDW: https://sdw.ecb.europa.eu/browse.do?node=9691394'\n",
       "2. ',MIR.M.AT.B.L22.F.R.A.2250.EUR.N,MIR.M.BE.B.L22.F.R.A.2250.EUR.N,MIR.M.BG.B.L22.F.R.A.2250.BGN.N,MIR.M.CY.B.L22.F.R.A.2250.EUR.N,MIR.M.CZ.B.L22.F.R.A.2250.CZK.N,MIR.M.DE.B.L22.F.R.A.2250.EUR.N,MIR.M.DK.B.L22.F.R.A.2250.DKK.N,MIR.M.EE.B.L22.F.R.A.2250.EEK.N,MIR.M.EE.B.L22.F.R.A.2250.EUR.N,MIR.M.ES.B.L22.F.R.A.2250.EUR.N,MIR.M.FI.B.L22.F.R.A.2250.EUR.N,MIR.M.FR.B.L22.F.R.A.2250.EUR.N,MIR.M.GR.B.L22.F.R.A.2250.EUR.N,MIR.M.HR.B.L22.F.R.A.2250.HRK.N,MIR.M.HU.B.L22.F.R.A.2250.HUF.N,MIR.M.IE.B.L22.F.R.A.2250.EUR.N,MIR.M.IT.B.L22.F.R.A.2250.EUR.N,MIR.M.LT.B.L22.F.R.A.2250.EUR.N,MIR.M.LT.B.L22.F.R.A.2250.LTL.N,MIR.M.LU.B.L22.F.R.A.2250.EUR.N,MIR.M.LV.B.L22.F.R.A.2250.EUR.N,MIR.M.LV.B.L22.F.R.A.2250.LVL.N,MIR.M.MT.B.L22.F.R.A.2250.EUR.N,MIR.M.MT.B.L22.F.R.A.2250.MTL.N,MIR.M.NL.B.L22.F.R.A.2250.EUR.N,MIR.M.PL.B.L22.F.R.A.2250.PLN.N,MIR.M.PT.B.L22.F.R.A.2250.EUR.N,MIR.M.RO.B.L22.F.R.A.2250.RON.N,MIR.M.SE.B.L22.F.R.A.2250.SEK.N,MIR.M.SI.B.L22.F.R.A.2250.EUR.N,MIR.M.SI.B.L22.F.R.A.2250.SIT.N,MIR.M.SK.B.L22.F.R.A.2250.EUR.N,MIR.M.SK.B.L22.F.R.A.2250.SKK.N'\n",
       "3. ',\"Austria, Euro\",\"Belgium, Euro\",\"Bulgaria, Bulgarian lev\",\"Cyprus, Euro\",\"Czech Republic, Czech koruna\",\"Germany, Euro\",\"Denmark, Danish krone\",\"Estonia, Estonian kroon\",\"Estonia, Euro\",\"Spain, Euro\",\"Finland, Euro\",\"France, Euro\",\"Greece, Euro\",\"Croatia, Croatian kuna\",\"Hungary, Hungarian forint\",\"Ireland, Euro\",\"Italy, Euro\",\"Lithuania, Euro\",\"Lithuania, Lithuanian litas\",\"Luxembourg, Euro\",\"Latvia, Euro\",\"Latvia, Latvian lats\",\"Malta, Euro\",\"Malta, Maltese lira\",\"Netherlands, Euro\",\"Poland, Polish zloty\",\"Portugal, Euro\",\"Romania, Romanian leu\",\"Sweden, Swedish krona\",\"Slovenia, Euro\",\"Slovenia, Slovenian tolar\",\"Slovakia, Euro\",\"Slovakia, Slovak koruna\"'\n",
       "\n",
       "\n"
      ],
      "text/plain": [
       "[1] \"Data Source in SDW: https://sdw.ecb.europa.eu/browse.do?node=9691394\"                                                                                                                                                                                                                                                                                                                                                                                                                                                                                                                                                                                                                                                                                                                                                                                                                                                                                                                                                                                                                            \n",
       "[2] \",MIR.M.AT.B.L22.F.R.A.2250.EUR.N,MIR.M.BE.B.L22.F.R.A.2250.EUR.N,MIR.M.BG.B.L22.F.R.A.2250.BGN.N,MIR.M.CY.B.L22.F.R.A.2250.EUR.N,MIR.M.CZ.B.L22.F.R.A.2250.CZK.N,MIR.M.DE.B.L22.F.R.A.2250.EUR.N,MIR.M.DK.B.L22.F.R.A.2250.DKK.N,MIR.M.EE.B.L22.F.R.A.2250.EEK.N,MIR.M.EE.B.L22.F.R.A.2250.EUR.N,MIR.M.ES.B.L22.F.R.A.2250.EUR.N,MIR.M.FI.B.L22.F.R.A.2250.EUR.N,MIR.M.FR.B.L22.F.R.A.2250.EUR.N,MIR.M.GR.B.L22.F.R.A.2250.EUR.N,MIR.M.HR.B.L22.F.R.A.2250.HRK.N,MIR.M.HU.B.L22.F.R.A.2250.HUF.N,MIR.M.IE.B.L22.F.R.A.2250.EUR.N,MIR.M.IT.B.L22.F.R.A.2250.EUR.N,MIR.M.LT.B.L22.F.R.A.2250.EUR.N,MIR.M.LT.B.L22.F.R.A.2250.LTL.N,MIR.M.LU.B.L22.F.R.A.2250.EUR.N,MIR.M.LV.B.L22.F.R.A.2250.EUR.N,MIR.M.LV.B.L22.F.R.A.2250.LVL.N,MIR.M.MT.B.L22.F.R.A.2250.EUR.N,MIR.M.MT.B.L22.F.R.A.2250.MTL.N,MIR.M.NL.B.L22.F.R.A.2250.EUR.N,MIR.M.PL.B.L22.F.R.A.2250.PLN.N,MIR.M.PT.B.L22.F.R.A.2250.EUR.N,MIR.M.RO.B.L22.F.R.A.2250.RON.N,MIR.M.SE.B.L22.F.R.A.2250.SEK.N,MIR.M.SI.B.L22.F.R.A.2250.EUR.N,MIR.M.SI.B.L22.F.R.A.2250.SIT.N,MIR.M.SK.B.L22.F.R.A.2250.EUR.N,MIR.M.SK.B.L22.F.R.A.2250.SKK.N\"\n",
       "[3] \",\\\"Austria, Euro\\\",\\\"Belgium, Euro\\\",\\\"Bulgaria, Bulgarian lev\\\",\\\"Cyprus, Euro\\\",\\\"Czech Republic, Czech koruna\\\",\\\"Germany, Euro\\\",\\\"Denmark, Danish krone\\\",\\\"Estonia, Estonian kroon\\\",\\\"Estonia, Euro\\\",\\\"Spain, Euro\\\",\\\"Finland, Euro\\\",\\\"France, Euro\\\",\\\"Greece, Euro\\\",\\\"Croatia, Croatian kuna\\\",\\\"Hungary, Hungarian forint\\\",\\\"Ireland, Euro\\\",\\\"Italy, Euro\\\",\\\"Lithuania, Euro\\\",\\\"Lithuania, Lithuanian litas\\\",\\\"Luxembourg, Euro\\\",\\\"Latvia, Euro\\\",\\\"Latvia, Latvian lats\\\",\\\"Malta, Euro\\\",\\\"Malta, Maltese lira\\\",\\\"Netherlands, Euro\\\",\\\"Poland, Polish zloty\\\",\\\"Portugal, Euro\\\",\\\"Romania, Romanian leu\\\",\\\"Sweden, Swedish krona\\\",\\\"Slovenia, Euro\\\",\\\"Slovenia, Slovenian tolar\\\",\\\"Slovakia, Euro\\\",\\\"Slovakia, Slovak koruna\\\"\"                                                                                                                                                                                                                                                                                                                                    "
      ]
     },
     "metadata": {},
     "output_type": "display_data"
    },
    {
     "data": {
      "text/html": [
       "<style>\n",
       ".list-inline {list-style: none; margin:0; padding: 0}\n",
       ".list-inline>li {display: inline-block}\n",
       ".list-inline>li:not(:last-child)::after {content: \"\\00b7\"; padding: 0 .5ex}\n",
       "</style>\n",
       "<ol class=list-inline><li>'Data Source in SDW: https://sdw.ecb.europa.eu/browseChart.do?org.apache.struts.taglib.html.TOKEN=46c52daef2587d98a7880dbacfe169eb&amp;df=true&amp;ec=&amp;dc=&amp;oc=&amp;pb=&amp;rc=&amp;DATASET=0&amp;removeItem=&amp;removedItemList=&amp;mergeFilter=&amp;activeTab=ICP&amp;showHide=&amp;REF_AREA.19=AT&amp;REF_AREA.19=BE&amp;REF_AREA.19=BG&amp;REF_AREA.19=CY&amp;REF_AREA.19=CZ&amp;REF_AREA.19=D0&amp;REF_AREA.19=DE&amp;REF_AREA.19=DK&amp;REF_AREA.19=EE&amp;REF_AREA.19=ES&amp;REF_AREA.19=FI&amp;REF_AREA.19=FR&amp;REF_AREA.19=GR&amp;REF_AREA.19=HR&amp;REF_AREA.19=HU&amp;REF_AREA.19=IE&amp;REF_AREA.19=IT&amp;REF_AREA.19=LT&amp;REF_AREA.19=LU&amp;REF_AREA.19=LV&amp;REF_AREA.19=MT&amp;REF_AREA.19=NL&amp;REF_AREA.19=PL&amp;REF_AREA.19=PT&amp;REF_AREA.19=RO&amp;REF_AREA.19=SE&amp;REF_AREA.19=SI&amp;REF_AREA.19=SK&amp;ICP_ITEM.19=000000&amp;ICP_SUFFIX.19=ANR&amp;MAX_DOWNLOAD_SERIES=500&amp;SERIES_MAX_NUM=50&amp;node=9691209&amp;legendRef=reference&amp;legendNor=&amp;SERIES_KEY_checkall=on&amp;SERIES_KEY=122.ICP.M.BG.N.000000.4.ANR&amp;SERIES_KEY=122.ICP.M.CZ.N.000000.4.ANR&amp;SERIES_KEY=122.ICP.M.DK.N.000000.4.ANR&amp;SERIES_KEY=122.ICP.M.HR.N.000000.4.ANR&amp;SERIES_KEY=122.ICP.M.HU.N.000000.4.ANR&amp;SERIES_KEY=122.ICP.M.PL.N.000000.4.ANR&amp;SERIES_KEY=122.ICP.M.RO.N.000000.4.ANR&amp;SERIES_KEY=122.ICP.M.SE.N.000000.4.ANR&amp;SERIES_KEY=122.ICP.M.AT.N.000000.4.ANR&amp;SERIES_KEY=122.ICP.M.BE.N.000000.4.ANR&amp;SERIES_KEY=122.ICP.M.CY.N.000000.4.ANR&amp;SERIES_KEY=122.ICP.M.D0.N.000000.4.ANR&amp;SERIES_KEY=122.ICP.M.DE.N.000000.4.ANR&amp;SERIES_KEY=122.ICP.M.EE.N.000000.4.ANR&amp;SERIES_KEY=122.ICP.M.ES.N.000000.4.ANR&amp;SERIES_KEY=122.ICP.M.FI.N.000000.4.ANR&amp;SERIES_KEY=122.ICP.M.FR.N.000000.4.ANR&amp;SERIES_KEY=122.ICP.M.GR.N.000000.4.ANR&amp;SERIES_KEY=122.ICP.M.IE.N.000000.4.ANR&amp;SERIES_KEY=122.ICP.M.IT.N.000000.4.ANR&amp;SERIES_KEY=122.ICP.M.LT.N.000000.4.ANR&amp;SERIES_KEY=122.ICP.M.LU.N.000000.4.ANR&amp;SERIES_KEY=122.ICP.M.LV.N.000000.4.ANR&amp;SERIES_KEY=122.ICP.M.MT.N.000000.4.ANR&amp;SERIES_KEY=122.ICP.M.NL.N.000000.4.ANR&amp;SERIES_KEY=122.ICP.M.PT.N.000000.4.ANR&amp;SERIES_KEY=122.ICP.M.SI.N.000000.4.ANR&amp;SERIES_KEY=122.ICP.M.SK.N.000000.4.ANR'</li><li>',ICP.M.AT.N.000000.4.ANR,ICP.M.BE.N.000000.4.ANR,ICP.M.BG.N.000000.4.ANR,ICP.M.CY.N.000000.4.ANR,ICP.M.CZ.N.000000.4.ANR,ICP.M.D0.N.000000.4.ANR,ICP.M.DE.N.000000.4.ANR,ICP.M.DK.N.000000.4.ANR,ICP.M.EE.N.000000.4.ANR,ICP.M.ES.N.000000.4.ANR,ICP.M.FI.N.000000.4.ANR,ICP.M.FR.N.000000.4.ANR,ICP.M.GR.N.000000.4.ANR,ICP.M.HR.N.000000.4.ANR,ICP.M.HU.N.000000.4.ANR,ICP.M.IE.N.000000.4.ANR,ICP.M.IT.N.000000.4.ANR,ICP.M.LT.N.000000.4.ANR,ICP.M.LU.N.000000.4.ANR,ICP.M.LV.N.000000.4.ANR,ICP.M.MT.N.000000.4.ANR,ICP.M.NL.N.000000.4.ANR,ICP.M.PL.N.000000.4.ANR,ICP.M.PT.N.000000.4.ANR,ICP.M.RO.N.000000.4.ANR,ICP.M.SE.N.000000.4.ANR,ICP.M.SI.N.000000.4.ANR,ICP.M.SK.N.000000.4.ANR'</li><li>',Austria,Belgium,Bulgaria,Cyprus,Czech Republic,EU (changing composition),Germany,Denmark,Estonia,Spain,Finland,France,Greece,Croatia,Hungary,Ireland,Italy,Lithuania,Luxembourg,Latvia,Malta,Netherlands,Poland,Portugal,Romania,Sweden,Slovenia,Slovakia'</li></ol>\n"
      ],
      "text/latex": [
       "\\begin{enumerate*}\n",
       "\\item 'Data Source in SDW: https://sdw.ecb.europa.eu/browseChart.do?org.apache.struts.taglib.html.TOKEN=46c52daef2587d98a7880dbacfe169eb\\&df=true\\&ec=\\&dc=\\&oc=\\&pb=\\&rc=\\&DATASET=0\\&removeItem=\\&removedItemList=\\&mergeFilter=\\&activeTab=ICP\\&showHide=\\&REF\\_AREA.19=AT\\&REF\\_AREA.19=BE\\&REF\\_AREA.19=BG\\&REF\\_AREA.19=CY\\&REF\\_AREA.19=CZ\\&REF\\_AREA.19=D0\\&REF\\_AREA.19=DE\\&REF\\_AREA.19=DK\\&REF\\_AREA.19=EE\\&REF\\_AREA.19=ES\\&REF\\_AREA.19=FI\\&REF\\_AREA.19=FR\\&REF\\_AREA.19=GR\\&REF\\_AREA.19=HR\\&REF\\_AREA.19=HU\\&REF\\_AREA.19=IE\\&REF\\_AREA.19=IT\\&REF\\_AREA.19=LT\\&REF\\_AREA.19=LU\\&REF\\_AREA.19=LV\\&REF\\_AREA.19=MT\\&REF\\_AREA.19=NL\\&REF\\_AREA.19=PL\\&REF\\_AREA.19=PT\\&REF\\_AREA.19=RO\\&REF\\_AREA.19=SE\\&REF\\_AREA.19=SI\\&REF\\_AREA.19=SK\\&ICP\\_ITEM.19=000000\\&ICP\\_SUFFIX.19=ANR\\&MAX\\_DOWNLOAD\\_SERIES=500\\&SERIES\\_MAX\\_NUM=50\\&node=9691209\\&legendRef=reference\\&legendNor=\\&SERIES\\_KEY\\_checkall=on\\&SERIES\\_KEY=122.ICP.M.BG.N.000000.4.ANR\\&SERIES\\_KEY=122.ICP.M.CZ.N.000000.4.ANR\\&SERIES\\_KEY=122.ICP.M.DK.N.000000.4.ANR\\&SERIES\\_KEY=122.ICP.M.HR.N.000000.4.ANR\\&SERIES\\_KEY=122.ICP.M.HU.N.000000.4.ANR\\&SERIES\\_KEY=122.ICP.M.PL.N.000000.4.ANR\\&SERIES\\_KEY=122.ICP.M.RO.N.000000.4.ANR\\&SERIES\\_KEY=122.ICP.M.SE.N.000000.4.ANR\\&SERIES\\_KEY=122.ICP.M.AT.N.000000.4.ANR\\&SERIES\\_KEY=122.ICP.M.BE.N.000000.4.ANR\\&SERIES\\_KEY=122.ICP.M.CY.N.000000.4.ANR\\&SERIES\\_KEY=122.ICP.M.D0.N.000000.4.ANR\\&SERIES\\_KEY=122.ICP.M.DE.N.000000.4.ANR\\&SERIES\\_KEY=122.ICP.M.EE.N.000000.4.ANR\\&SERIES\\_KEY=122.ICP.M.ES.N.000000.4.ANR\\&SERIES\\_KEY=122.ICP.M.FI.N.000000.4.ANR\\&SERIES\\_KEY=122.ICP.M.FR.N.000000.4.ANR\\&SERIES\\_KEY=122.ICP.M.GR.N.000000.4.ANR\\&SERIES\\_KEY=122.ICP.M.IE.N.000000.4.ANR\\&SERIES\\_KEY=122.ICP.M.IT.N.000000.4.ANR\\&SERIES\\_KEY=122.ICP.M.LT.N.000000.4.ANR\\&SERIES\\_KEY=122.ICP.M.LU.N.000000.4.ANR\\&SERIES\\_KEY=122.ICP.M.LV.N.000000.4.ANR\\&SERIES\\_KEY=122.ICP.M.MT.N.000000.4.ANR\\&SERIES\\_KEY=122.ICP.M.NL.N.000000.4.ANR\\&SERIES\\_KEY=122.ICP.M.PT.N.000000.4.ANR\\&SERIES\\_KEY=122.ICP.M.SI.N.000000.4.ANR\\&SERIES\\_KEY=122.ICP.M.SK.N.000000.4.ANR'\n",
       "\\item ',ICP.M.AT.N.000000.4.ANR,ICP.M.BE.N.000000.4.ANR,ICP.M.BG.N.000000.4.ANR,ICP.M.CY.N.000000.4.ANR,ICP.M.CZ.N.000000.4.ANR,ICP.M.D0.N.000000.4.ANR,ICP.M.DE.N.000000.4.ANR,ICP.M.DK.N.000000.4.ANR,ICP.M.EE.N.000000.4.ANR,ICP.M.ES.N.000000.4.ANR,ICP.M.FI.N.000000.4.ANR,ICP.M.FR.N.000000.4.ANR,ICP.M.GR.N.000000.4.ANR,ICP.M.HR.N.000000.4.ANR,ICP.M.HU.N.000000.4.ANR,ICP.M.IE.N.000000.4.ANR,ICP.M.IT.N.000000.4.ANR,ICP.M.LT.N.000000.4.ANR,ICP.M.LU.N.000000.4.ANR,ICP.M.LV.N.000000.4.ANR,ICP.M.MT.N.000000.4.ANR,ICP.M.NL.N.000000.4.ANR,ICP.M.PL.N.000000.4.ANR,ICP.M.PT.N.000000.4.ANR,ICP.M.RO.N.000000.4.ANR,ICP.M.SE.N.000000.4.ANR,ICP.M.SI.N.000000.4.ANR,ICP.M.SK.N.000000.4.ANR'\n",
       "\\item ',Austria,Belgium,Bulgaria,Cyprus,Czech Republic,EU (changing composition),Germany,Denmark,Estonia,Spain,Finland,France,Greece,Croatia,Hungary,Ireland,Italy,Lithuania,Luxembourg,Latvia,Malta,Netherlands,Poland,Portugal,Romania,Sweden,Slovenia,Slovakia'\n",
       "\\end{enumerate*}\n"
      ],
      "text/markdown": [
       "1. 'Data Source in SDW: https://sdw.ecb.europa.eu/browseChart.do?org.apache.struts.taglib.html.TOKEN=46c52daef2587d98a7880dbacfe169eb&amp;df=true&amp;ec=&amp;dc=&amp;oc=&amp;pb=&amp;rc=&amp;DATASET=0&amp;removeItem=&amp;removedItemList=&amp;mergeFilter=&amp;activeTab=ICP&amp;showHide=&amp;REF_AREA.19=AT&amp;REF_AREA.19=BE&amp;REF_AREA.19=BG&amp;REF_AREA.19=CY&amp;REF_AREA.19=CZ&amp;REF_AREA.19=D0&amp;REF_AREA.19=DE&amp;REF_AREA.19=DK&amp;REF_AREA.19=EE&amp;REF_AREA.19=ES&amp;REF_AREA.19=FI&amp;REF_AREA.19=FR&amp;REF_AREA.19=GR&amp;REF_AREA.19=HR&amp;REF_AREA.19=HU&amp;REF_AREA.19=IE&amp;REF_AREA.19=IT&amp;REF_AREA.19=LT&amp;REF_AREA.19=LU&amp;REF_AREA.19=LV&amp;REF_AREA.19=MT&amp;REF_AREA.19=NL&amp;REF_AREA.19=PL&amp;REF_AREA.19=PT&amp;REF_AREA.19=RO&amp;REF_AREA.19=SE&amp;REF_AREA.19=SI&amp;REF_AREA.19=SK&amp;ICP_ITEM.19=000000&amp;ICP_SUFFIX.19=ANR&amp;MAX_DOWNLOAD_SERIES=500&amp;SERIES_MAX_NUM=50&amp;node=9691209&amp;legendRef=reference&amp;legendNor=&amp;SERIES_KEY_checkall=on&amp;SERIES_KEY=122.ICP.M.BG.N.000000.4.ANR&amp;SERIES_KEY=122.ICP.M.CZ.N.000000.4.ANR&amp;SERIES_KEY=122.ICP.M.DK.N.000000.4.ANR&amp;SERIES_KEY=122.ICP.M.HR.N.000000.4.ANR&amp;SERIES_KEY=122.ICP.M.HU.N.000000.4.ANR&amp;SERIES_KEY=122.ICP.M.PL.N.000000.4.ANR&amp;SERIES_KEY=122.ICP.M.RO.N.000000.4.ANR&amp;SERIES_KEY=122.ICP.M.SE.N.000000.4.ANR&amp;SERIES_KEY=122.ICP.M.AT.N.000000.4.ANR&amp;SERIES_KEY=122.ICP.M.BE.N.000000.4.ANR&amp;SERIES_KEY=122.ICP.M.CY.N.000000.4.ANR&amp;SERIES_KEY=122.ICP.M.D0.N.000000.4.ANR&amp;SERIES_KEY=122.ICP.M.DE.N.000000.4.ANR&amp;SERIES_KEY=122.ICP.M.EE.N.000000.4.ANR&amp;SERIES_KEY=122.ICP.M.ES.N.000000.4.ANR&amp;SERIES_KEY=122.ICP.M.FI.N.000000.4.ANR&amp;SERIES_KEY=122.ICP.M.FR.N.000000.4.ANR&amp;SERIES_KEY=122.ICP.M.GR.N.000000.4.ANR&amp;SERIES_KEY=122.ICP.M.IE.N.000000.4.ANR&amp;SERIES_KEY=122.ICP.M.IT.N.000000.4.ANR&amp;SERIES_KEY=122.ICP.M.LT.N.000000.4.ANR&amp;SERIES_KEY=122.ICP.M.LU.N.000000.4.ANR&amp;SERIES_KEY=122.ICP.M.LV.N.000000.4.ANR&amp;SERIES_KEY=122.ICP.M.MT.N.000000.4.ANR&amp;SERIES_KEY=122.ICP.M.NL.N.000000.4.ANR&amp;SERIES_KEY=122.ICP.M.PT.N.000000.4.ANR&amp;SERIES_KEY=122.ICP.M.SI.N.000000.4.ANR&amp;SERIES_KEY=122.ICP.M.SK.N.000000.4.ANR'\n",
       "2. ',ICP.M.AT.N.000000.4.ANR,ICP.M.BE.N.000000.4.ANR,ICP.M.BG.N.000000.4.ANR,ICP.M.CY.N.000000.4.ANR,ICP.M.CZ.N.000000.4.ANR,ICP.M.D0.N.000000.4.ANR,ICP.M.DE.N.000000.4.ANR,ICP.M.DK.N.000000.4.ANR,ICP.M.EE.N.000000.4.ANR,ICP.M.ES.N.000000.4.ANR,ICP.M.FI.N.000000.4.ANR,ICP.M.FR.N.000000.4.ANR,ICP.M.GR.N.000000.4.ANR,ICP.M.HR.N.000000.4.ANR,ICP.M.HU.N.000000.4.ANR,ICP.M.IE.N.000000.4.ANR,ICP.M.IT.N.000000.4.ANR,ICP.M.LT.N.000000.4.ANR,ICP.M.LU.N.000000.4.ANR,ICP.M.LV.N.000000.4.ANR,ICP.M.MT.N.000000.4.ANR,ICP.M.NL.N.000000.4.ANR,ICP.M.PL.N.000000.4.ANR,ICP.M.PT.N.000000.4.ANR,ICP.M.RO.N.000000.4.ANR,ICP.M.SE.N.000000.4.ANR,ICP.M.SI.N.000000.4.ANR,ICP.M.SK.N.000000.4.ANR'\n",
       "3. ',Austria,Belgium,Bulgaria,Cyprus,Czech Republic,EU (changing composition),Germany,Denmark,Estonia,Spain,Finland,France,Greece,Croatia,Hungary,Ireland,Italy,Lithuania,Luxembourg,Latvia,Malta,Netherlands,Poland,Portugal,Romania,Sweden,Slovenia,Slovakia'\n",
       "\n",
       "\n"
      ],
      "text/plain": [
       "[1] \"Data Source in SDW: https://sdw.ecb.europa.eu/browseChart.do?org.apache.struts.taglib.html.TOKEN=46c52daef2587d98a7880dbacfe169eb&df=true&ec=&dc=&oc=&pb=&rc=&DATASET=0&removeItem=&removedItemList=&mergeFilter=&activeTab=ICP&showHide=&REF_AREA.19=AT&REF_AREA.19=BE&REF_AREA.19=BG&REF_AREA.19=CY&REF_AREA.19=CZ&REF_AREA.19=D0&REF_AREA.19=DE&REF_AREA.19=DK&REF_AREA.19=EE&REF_AREA.19=ES&REF_AREA.19=FI&REF_AREA.19=FR&REF_AREA.19=GR&REF_AREA.19=HR&REF_AREA.19=HU&REF_AREA.19=IE&REF_AREA.19=IT&REF_AREA.19=LT&REF_AREA.19=LU&REF_AREA.19=LV&REF_AREA.19=MT&REF_AREA.19=NL&REF_AREA.19=PL&REF_AREA.19=PT&REF_AREA.19=RO&REF_AREA.19=SE&REF_AREA.19=SI&REF_AREA.19=SK&ICP_ITEM.19=000000&ICP_SUFFIX.19=ANR&MAX_DOWNLOAD_SERIES=500&SERIES_MAX_NUM=50&node=9691209&legendRef=reference&legendNor=&SERIES_KEY_checkall=on&SERIES_KEY=122.ICP.M.BG.N.000000.4.ANR&SERIES_KEY=122.ICP.M.CZ.N.000000.4.ANR&SERIES_KEY=122.ICP.M.DK.N.000000.4.ANR&SERIES_KEY=122.ICP.M.HR.N.000000.4.ANR&SERIES_KEY=122.ICP.M.HU.N.000000.4.ANR&SERIES_KEY=122.ICP.M.PL.N.000000.4.ANR&SERIES_KEY=122.ICP.M.RO.N.000000.4.ANR&SERIES_KEY=122.ICP.M.SE.N.000000.4.ANR&SERIES_KEY=122.ICP.M.AT.N.000000.4.ANR&SERIES_KEY=122.ICP.M.BE.N.000000.4.ANR&SERIES_KEY=122.ICP.M.CY.N.000000.4.ANR&SERIES_KEY=122.ICP.M.D0.N.000000.4.ANR&SERIES_KEY=122.ICP.M.DE.N.000000.4.ANR&SERIES_KEY=122.ICP.M.EE.N.000000.4.ANR&SERIES_KEY=122.ICP.M.ES.N.000000.4.ANR&SERIES_KEY=122.ICP.M.FI.N.000000.4.ANR&SERIES_KEY=122.ICP.M.FR.N.000000.4.ANR&SERIES_KEY=122.ICP.M.GR.N.000000.4.ANR&SERIES_KEY=122.ICP.M.IE.N.000000.4.ANR&SERIES_KEY=122.ICP.M.IT.N.000000.4.ANR&SERIES_KEY=122.ICP.M.LT.N.000000.4.ANR&SERIES_KEY=122.ICP.M.LU.N.000000.4.ANR&SERIES_KEY=122.ICP.M.LV.N.000000.4.ANR&SERIES_KEY=122.ICP.M.MT.N.000000.4.ANR&SERIES_KEY=122.ICP.M.NL.N.000000.4.ANR&SERIES_KEY=122.ICP.M.PT.N.000000.4.ANR&SERIES_KEY=122.ICP.M.SI.N.000000.4.ANR&SERIES_KEY=122.ICP.M.SK.N.000000.4.ANR\"\n",
       "[2] \",ICP.M.AT.N.000000.4.ANR,ICP.M.BE.N.000000.4.ANR,ICP.M.BG.N.000000.4.ANR,ICP.M.CY.N.000000.4.ANR,ICP.M.CZ.N.000000.4.ANR,ICP.M.D0.N.000000.4.ANR,ICP.M.DE.N.000000.4.ANR,ICP.M.DK.N.000000.4.ANR,ICP.M.EE.N.000000.4.ANR,ICP.M.ES.N.000000.4.ANR,ICP.M.FI.N.000000.4.ANR,ICP.M.FR.N.000000.4.ANR,ICP.M.GR.N.000000.4.ANR,ICP.M.HR.N.000000.4.ANR,ICP.M.HU.N.000000.4.ANR,ICP.M.IE.N.000000.4.ANR,ICP.M.IT.N.000000.4.ANR,ICP.M.LT.N.000000.4.ANR,ICP.M.LU.N.000000.4.ANR,ICP.M.LV.N.000000.4.ANR,ICP.M.MT.N.000000.4.ANR,ICP.M.NL.N.000000.4.ANR,ICP.M.PL.N.000000.4.ANR,ICP.M.PT.N.000000.4.ANR,ICP.M.RO.N.000000.4.ANR,ICP.M.SE.N.000000.4.ANR,ICP.M.SI.N.000000.4.ANR,ICP.M.SK.N.000000.4.ANR\"                                                                                                                                                                                                                                                                                                                                                                                                                                                                                                                                                                                                                                                                                                                                                                                                                                                                                                                                                                                                                                                                                                                                                                                                                                                                   \n",
       "[3] \",Austria,Belgium,Bulgaria,Cyprus,Czech Republic,EU (changing composition),Germany,Denmark,Estonia,Spain,Finland,France,Greece,Croatia,Hungary,Ireland,Italy,Lithuania,Luxembourg,Latvia,Malta,Netherlands,Poland,Portugal,Romania,Sweden,Slovenia,Slovakia\"                                                                                                                                                                                                                                                                                                                                                                                                                                                                                                                                                                                                                                                                                                                                                                                                                                                                                                                                                                                                                                                                                                                                                                                                                                                                                                                                                                                                                                                                                                                                                                                                                                                                                                         "
      ]
     },
     "metadata": {},
     "output_type": "display_data"
    }
   ],
   "source": [
    "eu_deposits <- \"EU_deposits_1yr_data.csv\"\n",
    "eu_inflation <- \"EU_Inflation_HICP_data.csv\"\n",
    "# Check if our data have title row and what is the delimiter\n",
    "read_lines(eu_deposits, n_max = 3)\n",
    "read_lines(eu_inflation, n_max = 3)\n"
   ]
  },
  {
   "cell_type": "code",
   "execution_count": 41,
   "id": "dcf931af",
   "metadata": {},
   "outputs": [
    {
     "name": "stderr",
     "output_type": "stream",
     "text": [
      "\u001b[1m\u001b[22mNew names:\n",
      "\u001b[36m•\u001b[39m `` -> `...1`\n",
      "\u001b[1mRows: \u001b[22m\u001b[34m515\u001b[39m \u001b[1mColumns: \u001b[22m\u001b[34m34\u001b[39m\n",
      "\u001b[36m──\u001b[39m \u001b[1mColumn specification\u001b[22m \u001b[36m────────────────────────────────────────────────────────\u001b[39m\n",
      "\u001b[1mDelimiter:\u001b[22m \",\"\n",
      "\u001b[31mchr\u001b[39m (34): ...1, Austria, Euro, Belgium, Euro, Bulgaria, Bulgarian lev, Cypru...\n",
      "\n",
      "\u001b[36mℹ\u001b[39m Use `spec()` to retrieve the full column specification for this data.\n",
      "\u001b[36mℹ\u001b[39m Specify the column types or set `show_col_types = FALSE` to quiet this message.\n",
      "\u001b[1m\u001b[22mNew names:\n",
      "\u001b[36m•\u001b[39m `` -> `...1`\n",
      "\u001b[1mRows: \u001b[22m\u001b[34m420\u001b[39m \u001b[1mColumns: \u001b[22m\u001b[34m29\u001b[39m\n",
      "\u001b[36m──\u001b[39m \u001b[1mColumn specification\u001b[22m \u001b[36m────────────────────────────────────────────────────────\u001b[39m\n",
      "\u001b[1mDelimiter:\u001b[22m \",\"\n",
      "\u001b[31mchr\u001b[39m (29): ...1, Austria, Belgium, Bulgaria, Cyprus, Czech Republic, EU (chan...\n",
      "\n",
      "\u001b[36mℹ\u001b[39m Use `spec()` to retrieve the full column specification for this data.\n",
      "\u001b[36mℹ\u001b[39m Specify the column types or set `show_col_types = FALSE` to quiet this message.\n"
     ]
    }
   ],
   "source": [
    "eu_deposits_data <- read_csv(eu_deposits, skip=2)\n",
    "colnames(eu_deposits_data) <- make.names(colnames(eu_deposits_data))\n",
    "colnames(eu_deposits_data)[1] <- \"Date\"\n",
    "eu_inflation_data <- read_csv(eu_inflation, skip=2)\n",
    "colnames(eu_inflation_data) <- make.names(colnames(eu_inflation_data))\n",
    "colnames(eu_inflation_data)[1] <- \"Date\""
   ]
  },
  {
   "cell_type": "code",
   "execution_count": 42,
   "id": "da140d1f",
   "metadata": {},
   "outputs": [
    {
     "data": {
      "text/html": [
       "<table class=\"dataframe\">\n",
       "<caption>A tibble: 6 × 34</caption>\n",
       "<thead>\n",
       "\t<tr><th scope=col>Date</th><th scope=col>Austria..Euro</th><th scope=col>Belgium..Euro</th><th scope=col>Bulgaria..Bulgarian.lev</th><th scope=col>Cyprus..Euro</th><th scope=col>Czech.Republic..Czech.koruna</th><th scope=col>Germany..Euro</th><th scope=col>Denmark..Danish.krone</th><th scope=col>Estonia..Estonian.kroon</th><th scope=col>Estonia..Euro</th><th scope=col>⋯</th><th scope=col>Malta..Maltese.lira</th><th scope=col>Netherlands..Euro</th><th scope=col>Poland..Polish.zloty</th><th scope=col>Portugal..Euro</th><th scope=col>Romania..Romanian.leu</th><th scope=col>Sweden..Swedish.krona</th><th scope=col>Slovenia..Euro</th><th scope=col>Slovenia..Slovenian.tolar</th><th scope=col>Slovakia..Euro</th><th scope=col>Slovakia..Slovak.koruna</th></tr>\n",
       "\t<tr><th scope=col>&lt;chr&gt;</th><th scope=col>&lt;chr&gt;</th><th scope=col>&lt;chr&gt;</th><th scope=col>&lt;chr&gt;</th><th scope=col>&lt;chr&gt;</th><th scope=col>&lt;chr&gt;</th><th scope=col>&lt;chr&gt;</th><th scope=col>&lt;chr&gt;</th><th scope=col>&lt;chr&gt;</th><th scope=col>&lt;chr&gt;</th><th scope=col>⋯</th><th scope=col>&lt;chr&gt;</th><th scope=col>&lt;chr&gt;</th><th scope=col>&lt;chr&gt;</th><th scope=col>&lt;chr&gt;</th><th scope=col>&lt;chr&gt;</th><th scope=col>&lt;chr&gt;</th><th scope=col>&lt;chr&gt;</th><th scope=col>&lt;chr&gt;</th><th scope=col>&lt;chr&gt;</th><th scope=col>&lt;chr&gt;</th></tr>\n",
       "</thead>\n",
       "<tbody>\n",
       "\t<tr><td>2022Sep</td><td>0.80</td><td>0.84</td><td>0.12</td><td>0.11</td><td>6.10</td><td>0.84</td><td>1.15 </td><td>NA</td><td>0.94</td><td>⋯</td><td>NA</td><td>1.84</td><td>5.44</td><td>0.05</td><td>6.44</td><td>1.65</td><td>0.11</td><td>NA</td><td>0.77</td><td>NA</td></tr>\n",
       "\t<tr><td>2022Aug</td><td>0.37</td><td>0.37</td><td>0.11</td><td>0.06</td><td>5.98</td><td>0.49</td><td>0.25 </td><td>NA</td><td>0.83</td><td>⋯</td><td>NA</td><td>1.53</td><td>5.22</td><td>0.07</td><td>6.22</td><td>1.21</td><td>0.04</td><td>NA</td><td>0.48</td><td>NA</td></tr>\n",
       "\t<tr><td>2022Jul</td><td>0.23</td><td>0.11</td><td>0.09</td><td>0.05</td><td>5.95</td><td>0.31</td><td>-0.44</td><td>NA</td><td>0.59</td><td>⋯</td><td>NA</td><td>1.59</td><td>4.85</td><td>0.09</td><td>5.49</td><td>0.90</td><td>0.03</td><td>NA</td><td>0.21</td><td>NA</td></tr>\n",
       "\t<tr><td>2022Jun</td><td>0.12</td><td>0.14</td><td>0.06</td><td>0.05</td><td>5.37</td><td>0.17</td><td>-0.45</td><td>NA</td><td>0.49</td><td>⋯</td><td>NA</td><td>1.47</td><td>4.50</td><td>0.07</td><td>4.37</td><td>0.53</td><td>0.03</td><td>NA</td><td>0.16</td><td>NA</td></tr>\n",
       "\t<tr><td>2022May</td><td>0.08</td><td>0.07</td><td>0.04</td><td>0.05</td><td>4.53</td><td>0.14</td><td>-0.50</td><td>NA</td><td>0.50</td><td>⋯</td><td>NA</td><td>1.23</td><td>3.38</td><td>0.04</td><td>3.21</td><td>0.38</td><td>0.04</td><td>NA</td><td>0.21</td><td>NA</td></tr>\n",
       "\t<tr><td>2022Apr</td><td>0.10</td><td>0.06</td><td>0.04</td><td>0.05</td><td>4.17</td><td>0.14</td><td>-0.51</td><td>NA</td><td>0.44</td><td>⋯</td><td>NA</td><td>1.15</td><td>2.03</td><td>0.04</td><td>2.56</td><td>0.32</td><td>0.03</td><td>NA</td><td>0.24</td><td>NA</td></tr>\n",
       "</tbody>\n",
       "</table>\n"
      ],
      "text/latex": [
       "A tibble: 6 × 34\n",
       "\\begin{tabular}{lllllllllllllllllllll}\n",
       " Date & Austria..Euro & Belgium..Euro & Bulgaria..Bulgarian.lev & Cyprus..Euro & Czech.Republic..Czech.koruna & Germany..Euro & Denmark..Danish.krone & Estonia..Estonian.kroon & Estonia..Euro & ⋯ & Malta..Maltese.lira & Netherlands..Euro & Poland..Polish.zloty & Portugal..Euro & Romania..Romanian.leu & Sweden..Swedish.krona & Slovenia..Euro & Slovenia..Slovenian.tolar & Slovakia..Euro & Slovakia..Slovak.koruna\\\\\n",
       " <chr> & <chr> & <chr> & <chr> & <chr> & <chr> & <chr> & <chr> & <chr> & <chr> & ⋯ & <chr> & <chr> & <chr> & <chr> & <chr> & <chr> & <chr> & <chr> & <chr> & <chr>\\\\\n",
       "\\hline\n",
       "\t 2022Sep & 0.80 & 0.84 & 0.12 & 0.11 & 6.10 & 0.84 & 1.15  & NA & 0.94 & ⋯ & NA & 1.84 & 5.44 & 0.05 & 6.44 & 1.65 & 0.11 & NA & 0.77 & NA\\\\\n",
       "\t 2022Aug & 0.37 & 0.37 & 0.11 & 0.06 & 5.98 & 0.49 & 0.25  & NA & 0.83 & ⋯ & NA & 1.53 & 5.22 & 0.07 & 6.22 & 1.21 & 0.04 & NA & 0.48 & NA\\\\\n",
       "\t 2022Jul & 0.23 & 0.11 & 0.09 & 0.05 & 5.95 & 0.31 & -0.44 & NA & 0.59 & ⋯ & NA & 1.59 & 4.85 & 0.09 & 5.49 & 0.90 & 0.03 & NA & 0.21 & NA\\\\\n",
       "\t 2022Jun & 0.12 & 0.14 & 0.06 & 0.05 & 5.37 & 0.17 & -0.45 & NA & 0.49 & ⋯ & NA & 1.47 & 4.50 & 0.07 & 4.37 & 0.53 & 0.03 & NA & 0.16 & NA\\\\\n",
       "\t 2022May & 0.08 & 0.07 & 0.04 & 0.05 & 4.53 & 0.14 & -0.50 & NA & 0.50 & ⋯ & NA & 1.23 & 3.38 & 0.04 & 3.21 & 0.38 & 0.04 & NA & 0.21 & NA\\\\\n",
       "\t 2022Apr & 0.10 & 0.06 & 0.04 & 0.05 & 4.17 & 0.14 & -0.51 & NA & 0.44 & ⋯ & NA & 1.15 & 2.03 & 0.04 & 2.56 & 0.32 & 0.03 & NA & 0.24 & NA\\\\\n",
       "\\end{tabular}\n"
      ],
      "text/markdown": [
       "\n",
       "A tibble: 6 × 34\n",
       "\n",
       "| Date &lt;chr&gt; | Austria..Euro &lt;chr&gt; | Belgium..Euro &lt;chr&gt; | Bulgaria..Bulgarian.lev &lt;chr&gt; | Cyprus..Euro &lt;chr&gt; | Czech.Republic..Czech.koruna &lt;chr&gt; | Germany..Euro &lt;chr&gt; | Denmark..Danish.krone &lt;chr&gt; | Estonia..Estonian.kroon &lt;chr&gt; | Estonia..Euro &lt;chr&gt; | ⋯ ⋯ | Malta..Maltese.lira &lt;chr&gt; | Netherlands..Euro &lt;chr&gt; | Poland..Polish.zloty &lt;chr&gt; | Portugal..Euro &lt;chr&gt; | Romania..Romanian.leu &lt;chr&gt; | Sweden..Swedish.krona &lt;chr&gt; | Slovenia..Euro &lt;chr&gt; | Slovenia..Slovenian.tolar &lt;chr&gt; | Slovakia..Euro &lt;chr&gt; | Slovakia..Slovak.koruna &lt;chr&gt; |\n",
       "|---|---|---|---|---|---|---|---|---|---|---|---|---|---|---|---|---|---|---|---|---|\n",
       "| 2022Sep | 0.80 | 0.84 | 0.12 | 0.11 | 6.10 | 0.84 | 1.15  | NA | 0.94 | ⋯ | NA | 1.84 | 5.44 | 0.05 | 6.44 | 1.65 | 0.11 | NA | 0.77 | NA |\n",
       "| 2022Aug | 0.37 | 0.37 | 0.11 | 0.06 | 5.98 | 0.49 | 0.25  | NA | 0.83 | ⋯ | NA | 1.53 | 5.22 | 0.07 | 6.22 | 1.21 | 0.04 | NA | 0.48 | NA |\n",
       "| 2022Jul | 0.23 | 0.11 | 0.09 | 0.05 | 5.95 | 0.31 | -0.44 | NA | 0.59 | ⋯ | NA | 1.59 | 4.85 | 0.09 | 5.49 | 0.90 | 0.03 | NA | 0.21 | NA |\n",
       "| 2022Jun | 0.12 | 0.14 | 0.06 | 0.05 | 5.37 | 0.17 | -0.45 | NA | 0.49 | ⋯ | NA | 1.47 | 4.50 | 0.07 | 4.37 | 0.53 | 0.03 | NA | 0.16 | NA |\n",
       "| 2022May | 0.08 | 0.07 | 0.04 | 0.05 | 4.53 | 0.14 | -0.50 | NA | 0.50 | ⋯ | NA | 1.23 | 3.38 | 0.04 | 3.21 | 0.38 | 0.04 | NA | 0.21 | NA |\n",
       "| 2022Apr | 0.10 | 0.06 | 0.04 | 0.05 | 4.17 | 0.14 | -0.51 | NA | 0.44 | ⋯ | NA | 1.15 | 2.03 | 0.04 | 2.56 | 0.32 | 0.03 | NA | 0.24 | NA |\n",
       "\n"
      ],
      "text/plain": [
       "  Date    Austria..Euro Belgium..Euro Bulgaria..Bulgarian.lev Cyprus..Euro\n",
       "1 2022Sep 0.80          0.84          0.12                    0.11        \n",
       "2 2022Aug 0.37          0.37          0.11                    0.06        \n",
       "3 2022Jul 0.23          0.11          0.09                    0.05        \n",
       "4 2022Jun 0.12          0.14          0.06                    0.05        \n",
       "5 2022May 0.08          0.07          0.04                    0.05        \n",
       "6 2022Apr 0.10          0.06          0.04                    0.05        \n",
       "  Czech.Republic..Czech.koruna Germany..Euro Denmark..Danish.krone\n",
       "1 6.10                         0.84          1.15                 \n",
       "2 5.98                         0.49          0.25                 \n",
       "3 5.95                         0.31          -0.44                \n",
       "4 5.37                         0.17          -0.45                \n",
       "5 4.53                         0.14          -0.50                \n",
       "6 4.17                         0.14          -0.51                \n",
       "  Estonia..Estonian.kroon Estonia..Euro ⋯ Malta..Maltese.lira Netherlands..Euro\n",
       "1 NA                      0.94          ⋯ NA                  1.84             \n",
       "2 NA                      0.83          ⋯ NA                  1.53             \n",
       "3 NA                      0.59          ⋯ NA                  1.59             \n",
       "4 NA                      0.49          ⋯ NA                  1.47             \n",
       "5 NA                      0.50          ⋯ NA                  1.23             \n",
       "6 NA                      0.44          ⋯ NA                  1.15             \n",
       "  Poland..Polish.zloty Portugal..Euro Romania..Romanian.leu\n",
       "1 5.44                 0.05           6.44                 \n",
       "2 5.22                 0.07           6.22                 \n",
       "3 4.85                 0.09           5.49                 \n",
       "4 4.50                 0.07           4.37                 \n",
       "5 3.38                 0.04           3.21                 \n",
       "6 2.03                 0.04           2.56                 \n",
       "  Sweden..Swedish.krona Slovenia..Euro Slovenia..Slovenian.tolar Slovakia..Euro\n",
       "1 1.65                  0.11           NA                        0.77          \n",
       "2 1.21                  0.04           NA                        0.48          \n",
       "3 0.90                  0.03           NA                        0.21          \n",
       "4 0.53                  0.03           NA                        0.16          \n",
       "5 0.38                  0.04           NA                        0.21          \n",
       "6 0.32                  0.03           NA                        0.24          \n",
       "  Slovakia..Slovak.koruna\n",
       "1 NA                     \n",
       "2 NA                     \n",
       "3 NA                     \n",
       "4 NA                     \n",
       "5 NA                     \n",
       "6 NA                     "
      ]
     },
     "metadata": {},
     "output_type": "display_data"
    }
   ],
   "source": [
    "eu_deposits_data <- eu_deposits_data[c(-1, -2), ]\n",
    "head(eu_deposits_data)"
   ]
  },
  {
   "cell_type": "code",
   "execution_count": 43,
   "id": "9ec60cae",
   "metadata": {},
   "outputs": [
    {
     "data": {
      "text/html": [
       "<table class=\"dataframe\">\n",
       "<caption>A tibble: 6 × 29</caption>\n",
       "<thead>\n",
       "\t<tr><th scope=col>Date</th><th scope=col>Austria</th><th scope=col>Belgium</th><th scope=col>Bulgaria</th><th scope=col>Cyprus</th><th scope=col>Czech.Republic</th><th scope=col>EU..changing.composition.</th><th scope=col>Germany</th><th scope=col>Denmark</th><th scope=col>Estonia</th><th scope=col>⋯</th><th scope=col>Luxembourg</th><th scope=col>Latvia</th><th scope=col>Malta</th><th scope=col>Netherlands</th><th scope=col>Poland</th><th scope=col>Portugal</th><th scope=col>Romania</th><th scope=col>Sweden</th><th scope=col>Slovenia</th><th scope=col>Slovakia</th></tr>\n",
       "\t<tr><th scope=col>&lt;chr&gt;</th><th scope=col>&lt;chr&gt;</th><th scope=col>&lt;chr&gt;</th><th scope=col>&lt;chr&gt;</th><th scope=col>&lt;chr&gt;</th><th scope=col>&lt;chr&gt;</th><th scope=col>&lt;chr&gt;</th><th scope=col>&lt;chr&gt;</th><th scope=col>&lt;chr&gt;</th><th scope=col>&lt;chr&gt;</th><th scope=col>⋯</th><th scope=col>&lt;chr&gt;</th><th scope=col>&lt;chr&gt;</th><th scope=col>&lt;chr&gt;</th><th scope=col>&lt;chr&gt;</th><th scope=col>&lt;chr&gt;</th><th scope=col>&lt;chr&gt;</th><th scope=col>&lt;chr&gt;</th><th scope=col>&lt;chr&gt;</th><th scope=col>&lt;chr&gt;</th><th scope=col>&lt;chr&gt;</th></tr>\n",
       "</thead>\n",
       "<tbody>\n",
       "\t<tr><td>2022Oct</td><td>11.5</td><td>13.1</td><td>NA  </td><td>8.6 </td><td>NA  </td><td>NA  </td><td>11.6</td><td>NA  </td><td>22.4</td><td>⋯</td><td>8.8 </td><td>21.8</td><td>7.5</td><td>16.8</td><td>NA  </td><td>10.6</td><td>NA  </td><td>NA  </td><td>10.3</td><td>14.5</td></tr>\n",
       "\t<tr><td>2022Sep</td><td>10.9</td><td>12.1</td><td>15.6</td><td>9.0 </td><td>17.8</td><td>10.9</td><td>10.9</td><td>11.1</td><td>24.1</td><td>⋯</td><td>8.8 </td><td>22.0</td><td>7.4</td><td>17.1</td><td>15.7</td><td>9.8 </td><td>13.4</td><td>10.3</td><td>10.6</td><td>13.6</td></tr>\n",
       "\t<tr><td>2022Aug</td><td>9.3 </td><td>10.5</td><td>15.0</td><td>9.6 </td><td>17.1</td><td>10.1</td><td>8.8 </td><td>9.9 </td><td>25.2</td><td>⋯</td><td>8.6 </td><td>21.4</td><td>7.0</td><td>13.7</td><td>14.8</td><td>9.3 </td><td>13.3</td><td>9.5 </td><td>11.5</td><td>13.4</td></tr>\n",
       "\t<tr><td>2022Jul</td><td>9.4 </td><td>10.4</td><td>14.9</td><td>10.6</td><td>17.3</td><td>9.8 </td><td>8.5 </td><td>9.6 </td><td>23.2</td><td>⋯</td><td>9.3 </td><td>21.3</td><td>6.8</td><td>11.6</td><td>14.2</td><td>9.4 </td><td>13.0</td><td>8.3 </td><td>11.7</td><td>12.8</td></tr>\n",
       "\t<tr><td>2022Jun</td><td>8.7 </td><td>10.5</td><td>14.8</td><td>9.0 </td><td>16.6</td><td>9.6 </td><td>8.2 </td><td>9.1 </td><td>22.0</td><td>⋯</td><td>10.3</td><td>19.2</td><td>6.1</td><td>9.9 </td><td>14.2</td><td>9.0 </td><td>13.0</td><td>8.9 </td><td>10.8</td><td>12.6</td></tr>\n",
       "\t<tr><td>2022May</td><td>7.7 </td><td>9.9 </td><td>13.4</td><td>8.8 </td><td>15.2</td><td>8.8 </td><td>8.7 </td><td>8.2 </td><td>20.1</td><td>⋯</td><td>9.1 </td><td>16.8</td><td>5.8</td><td>10.2</td><td>12.8</td><td>8.1 </td><td>12.4</td><td>7.5 </td><td>8.7 </td><td>11.8</td></tr>\n",
       "</tbody>\n",
       "</table>\n"
      ],
      "text/latex": [
       "A tibble: 6 × 29\n",
       "\\begin{tabular}{lllllllllllllllllllll}\n",
       " Date & Austria & Belgium & Bulgaria & Cyprus & Czech.Republic & EU..changing.composition. & Germany & Denmark & Estonia & ⋯ & Luxembourg & Latvia & Malta & Netherlands & Poland & Portugal & Romania & Sweden & Slovenia & Slovakia\\\\\n",
       " <chr> & <chr> & <chr> & <chr> & <chr> & <chr> & <chr> & <chr> & <chr> & <chr> & ⋯ & <chr> & <chr> & <chr> & <chr> & <chr> & <chr> & <chr> & <chr> & <chr> & <chr>\\\\\n",
       "\\hline\n",
       "\t 2022Oct & 11.5 & 13.1 & NA   & 8.6  & NA   & NA   & 11.6 & NA   & 22.4 & ⋯ & 8.8  & 21.8 & 7.5 & 16.8 & NA   & 10.6 & NA   & NA   & 10.3 & 14.5\\\\\n",
       "\t 2022Sep & 10.9 & 12.1 & 15.6 & 9.0  & 17.8 & 10.9 & 10.9 & 11.1 & 24.1 & ⋯ & 8.8  & 22.0 & 7.4 & 17.1 & 15.7 & 9.8  & 13.4 & 10.3 & 10.6 & 13.6\\\\\n",
       "\t 2022Aug & 9.3  & 10.5 & 15.0 & 9.6  & 17.1 & 10.1 & 8.8  & 9.9  & 25.2 & ⋯ & 8.6  & 21.4 & 7.0 & 13.7 & 14.8 & 9.3  & 13.3 & 9.5  & 11.5 & 13.4\\\\\n",
       "\t 2022Jul & 9.4  & 10.4 & 14.9 & 10.6 & 17.3 & 9.8  & 8.5  & 9.6  & 23.2 & ⋯ & 9.3  & 21.3 & 6.8 & 11.6 & 14.2 & 9.4  & 13.0 & 8.3  & 11.7 & 12.8\\\\\n",
       "\t 2022Jun & 8.7  & 10.5 & 14.8 & 9.0  & 16.6 & 9.6  & 8.2  & 9.1  & 22.0 & ⋯ & 10.3 & 19.2 & 6.1 & 9.9  & 14.2 & 9.0  & 13.0 & 8.9  & 10.8 & 12.6\\\\\n",
       "\t 2022May & 7.7  & 9.9  & 13.4 & 8.8  & 15.2 & 8.8  & 8.7  & 8.2  & 20.1 & ⋯ & 9.1  & 16.8 & 5.8 & 10.2 & 12.8 & 8.1  & 12.4 & 7.5  & 8.7  & 11.8\\\\\n",
       "\\end{tabular}\n"
      ],
      "text/markdown": [
       "\n",
       "A tibble: 6 × 29\n",
       "\n",
       "| Date &lt;chr&gt; | Austria &lt;chr&gt; | Belgium &lt;chr&gt; | Bulgaria &lt;chr&gt; | Cyprus &lt;chr&gt; | Czech.Republic &lt;chr&gt; | EU..changing.composition. &lt;chr&gt; | Germany &lt;chr&gt; | Denmark &lt;chr&gt; | Estonia &lt;chr&gt; | ⋯ ⋯ | Luxembourg &lt;chr&gt; | Latvia &lt;chr&gt; | Malta &lt;chr&gt; | Netherlands &lt;chr&gt; | Poland &lt;chr&gt; | Portugal &lt;chr&gt; | Romania &lt;chr&gt; | Sweden &lt;chr&gt; | Slovenia &lt;chr&gt; | Slovakia &lt;chr&gt; |\n",
       "|---|---|---|---|---|---|---|---|---|---|---|---|---|---|---|---|---|---|---|---|---|\n",
       "| 2022Oct | 11.5 | 13.1 | NA   | 8.6  | NA   | NA   | 11.6 | NA   | 22.4 | ⋯ | 8.8  | 21.8 | 7.5 | 16.8 | NA   | 10.6 | NA   | NA   | 10.3 | 14.5 |\n",
       "| 2022Sep | 10.9 | 12.1 | 15.6 | 9.0  | 17.8 | 10.9 | 10.9 | 11.1 | 24.1 | ⋯ | 8.8  | 22.0 | 7.4 | 17.1 | 15.7 | 9.8  | 13.4 | 10.3 | 10.6 | 13.6 |\n",
       "| 2022Aug | 9.3  | 10.5 | 15.0 | 9.6  | 17.1 | 10.1 | 8.8  | 9.9  | 25.2 | ⋯ | 8.6  | 21.4 | 7.0 | 13.7 | 14.8 | 9.3  | 13.3 | 9.5  | 11.5 | 13.4 |\n",
       "| 2022Jul | 9.4  | 10.4 | 14.9 | 10.6 | 17.3 | 9.8  | 8.5  | 9.6  | 23.2 | ⋯ | 9.3  | 21.3 | 6.8 | 11.6 | 14.2 | 9.4  | 13.0 | 8.3  | 11.7 | 12.8 |\n",
       "| 2022Jun | 8.7  | 10.5 | 14.8 | 9.0  | 16.6 | 9.6  | 8.2  | 9.1  | 22.0 | ⋯ | 10.3 | 19.2 | 6.1 | 9.9  | 14.2 | 9.0  | 13.0 | 8.9  | 10.8 | 12.6 |\n",
       "| 2022May | 7.7  | 9.9  | 13.4 | 8.8  | 15.2 | 8.8  | 8.7  | 8.2  | 20.1 | ⋯ | 9.1  | 16.8 | 5.8 | 10.2 | 12.8 | 8.1  | 12.4 | 7.5  | 8.7  | 11.8 |\n",
       "\n"
      ],
      "text/plain": [
       "  Date    Austria Belgium Bulgaria Cyprus Czech.Republic\n",
       "1 2022Oct 11.5    13.1    NA       8.6    NA            \n",
       "2 2022Sep 10.9    12.1    15.6     9.0    17.8          \n",
       "3 2022Aug 9.3     10.5    15.0     9.6    17.1          \n",
       "4 2022Jul 9.4     10.4    14.9     10.6   17.3          \n",
       "5 2022Jun 8.7     10.5    14.8     9.0    16.6          \n",
       "6 2022May 7.7     9.9     13.4     8.8    15.2          \n",
       "  EU..changing.composition. Germany Denmark Estonia ⋯ Luxembourg Latvia Malta\n",
       "1 NA                        11.6    NA      22.4    ⋯ 8.8        21.8   7.5  \n",
       "2 10.9                      10.9    11.1    24.1    ⋯ 8.8        22.0   7.4  \n",
       "3 10.1                      8.8     9.9     25.2    ⋯ 8.6        21.4   7.0  \n",
       "4 9.8                       8.5     9.6     23.2    ⋯ 9.3        21.3   6.8  \n",
       "5 9.6                       8.2     9.1     22.0    ⋯ 10.3       19.2   6.1  \n",
       "6 8.8                       8.7     8.2     20.1    ⋯ 9.1        16.8   5.8  \n",
       "  Netherlands Poland Portugal Romania Sweden Slovenia Slovakia\n",
       "1 16.8        NA     10.6     NA      NA     10.3     14.5    \n",
       "2 17.1        15.7   9.8      13.4    10.3   10.6     13.6    \n",
       "3 13.7        14.8   9.3      13.3    9.5    11.5     13.4    \n",
       "4 11.6        14.2   9.4      13.0    8.3    11.7     12.8    \n",
       "5 9.9         14.2   9.0      13.0    8.9    10.8     12.6    \n",
       "6 10.2        12.8   8.1      12.4    7.5    8.7      11.8    "
      ]
     },
     "metadata": {},
     "output_type": "display_data"
    }
   ],
   "source": [
    "eu_inflation_data <- eu_inflation_data[c(-1, -2), ]\n",
    "head(eu_inflation_data)"
   ]
  },
  {
   "cell_type": "code",
   "execution_count": 45,
   "id": "a6d88fbe",
   "metadata": {},
   "outputs": [],
   "source": [
    "# converting wide data into tidy data\n",
    "eu_deposits_data <- eu_deposits_data |> pivot_longer(-Date, names_to = \"country\", values_to = \"deposits\")\n",
    "eu_inflation_data <- eu_inflation_data |> pivot_longer(-Date, names_to = \"country\", values_to = \"inflation\")"
   ]
  },
  {
   "cell_type": "code",
   "execution_count": 9,
   "id": "5d622b90",
   "metadata": {},
   "outputs": [
    {
     "name": "stdout",
     "output_type": "stream",
     "text": [
      "tibble [513 × 34] (S3: tbl_df/tbl/data.frame)\n",
      " $ Date                        : chr [1:513] \"2022Sep\" \"2022Aug\" \"2022Jul\" \"2022Jun\" ...\n",
      " $ Austria..Euro               : chr [1:513] \"0.80\" \"0.37\" \"0.23\" \"0.12\" ...\n",
      " $ Belgium..Euro               : chr [1:513] \"0.84\" \"0.37\" \"0.11\" \"0.14\" ...\n",
      " $ Bulgaria..Bulgarian.lev     : chr [1:513] \"0.12\" \"0.11\" \"0.09\" \"0.06\" ...\n",
      " $ Cyprus..Euro                : chr [1:513] \"0.11\" \"0.06\" \"0.05\" \"0.05\" ...\n",
      " $ Czech.Republic..Czech.koruna: chr [1:513] \"6.10\" \"5.98\" \"5.95\" \"5.37\" ...\n",
      " $ Germany..Euro               : chr [1:513] \"0.84\" \"0.49\" \"0.31\" \"0.17\" ...\n",
      " $ Denmark..Danish.krone       : chr [1:513] \"1.15\" \"0.25\" \"-0.44\" \"-0.45\" ...\n",
      " $ Estonia..Estonian.kroon     : chr [1:513] NA NA NA NA ...\n",
      " $ Estonia..Euro               : chr [1:513] \"0.94\" \"0.83\" \"0.59\" \"0.49\" ...\n",
      " $ Spain..Euro                 : chr [1:513] \"0.16\" \"0.01\" \"0.03\" \"0.01\" ...\n",
      " $ Finland..Euro               : chr [1:513] \"1.20\" \"0.62\" \"0.32\" \"0.28\" ...\n",
      " $ France..Euro                : chr [1:513] \"1.12\" \"0.85\" \"0.64\" \"0.44\" ...\n",
      " $ Greece..Euro                : chr [1:513] \"0.14\" \"0.11\" \"0.13\" \"0.12\" ...\n",
      " $ Croatia..Croatian.kuna      : chr [1:513] \"0.06\" \"0.06\" \"0.05\" \"0.06\" ...\n",
      " $ Hungary..Hungarian.forint   : chr [1:513] NA \"8.42\" \"6.96\" \"4.78\" ...\n",
      " $ Ireland..Euro               : chr [1:513] \"0.18\" \"0.06\" \"0.11\" \"0.02\" ...\n",
      " $ Italy..Euro                 : chr [1:513] \"1.16\" \"0.88\" \"0.66\" \"0.39\" ...\n",
      " $ Lithuania..Euro             : chr [1:513] \"0.25\" \"0.52\" \"0.43\" \"0.20\" ...\n",
      " $ Lithuania..Lithuanian.litas : chr [1:513] NA NA NA NA ...\n",
      " $ Luxembourg..Euro            : chr [1:513] \"0.73\" \"0.72\" \"0.15\" \"0.11\" ...\n",
      " $ Latvia..Euro                : chr [1:513] \"0.62\" \"0.41\" \"0.12\" \"0.16\" ...\n",
      " $ Latvia..Latvian.lats        : chr [1:513] NA NA NA NA ...\n",
      " $ Malta..Euro                 : chr [1:513] \"0.59\" \"0.54\" \"0.48\" \"0.39\" ...\n",
      " $ Malta..Maltese.lira         : chr [1:513] NA NA NA NA ...\n",
      " $ Netherlands..Euro           : chr [1:513] \"1.84\" \"1.53\" \"1.59\" \"1.47\" ...\n",
      " $ Poland..Polish.zloty        : chr [1:513] \"5.44\" \"5.22\" \"4.85\" \"4.50\" ...\n",
      " $ Portugal..Euro              : chr [1:513] \"0.05\" \"0.07\" \"0.09\" \"0.07\" ...\n",
      " $ Romania..Romanian.leu       : chr [1:513] \"6.44\" \"6.22\" \"5.49\" \"4.37\" ...\n",
      " $ Sweden..Swedish.krona       : chr [1:513] \"1.65\" \"1.21\" \"0.90\" \"0.53\" ...\n",
      " $ Slovenia..Euro              : chr [1:513] \"0.11\" \"0.04\" \"0.03\" \"0.03\" ...\n",
      " $ Slovenia..Slovenian.tolar   : chr [1:513] NA NA NA NA ...\n",
      " $ Slovakia..Euro              : chr [1:513] \"0.77\" \"0.48\" \"0.21\" \"0.16\" ...\n",
      " $ Slovakia..Slovak.koruna     : chr [1:513] NA NA NA NA ...\n",
      "tibble [418 × 29] (S3: tbl_df/tbl/data.frame)\n",
      " $ Date                     : chr [1:418] \"2022Oct\" \"2022Sep\" \"2022Aug\" \"2022Jul\" ...\n",
      " $ Austria                  : chr [1:418] \"11.5\" \"10.9\" \"9.3\" \"9.4\" ...\n",
      " $ Belgium                  : chr [1:418] \"13.1\" \"12.1\" \"10.5\" \"10.4\" ...\n",
      " $ Bulgaria                 : chr [1:418] NA \"15.6\" \"15.0\" \"14.9\" ...\n",
      " $ Cyprus                   : chr [1:418] \"8.6\" \"9.0\" \"9.6\" \"10.6\" ...\n",
      " $ Czech.Republic           : chr [1:418] NA \"17.8\" \"17.1\" \"17.3\" ...\n",
      " $ EU..changing.composition.: chr [1:418] NA \"10.9\" \"10.1\" \"9.8\" ...\n",
      " $ Germany                  : chr [1:418] \"11.6\" \"10.9\" \"8.8\" \"8.5\" ...\n",
      " $ Denmark                  : chr [1:418] NA \"11.1\" \"9.9\" \"9.6\" ...\n",
      " $ Estonia                  : chr [1:418] \"22.4\" \"24.1\" \"25.2\" \"23.2\" ...\n",
      " $ Spain                    : chr [1:418] \"7.3\" \"9.0\" \"10.5\" \"10.7\" ...\n",
      " $ Finland                  : chr [1:418] \"8.3\" \"8.4\" \"7.9\" \"8.0\" ...\n",
      " $ France                   : chr [1:418] \"7.1\" \"6.2\" \"6.6\" \"6.8\" ...\n",
      " $ Greece                   : chr [1:418] \"9.8\" \"12.1\" \"11.2\" \"11.3\" ...\n",
      " $ Croatia                  : chr [1:418] NA \"12.6\" \"12.6\" \"12.7\" ...\n",
      " $ Hungary                  : chr [1:418] NA \"20.7\" \"18.6\" \"14.7\" ...\n",
      " $ Ireland                  : chr [1:418] \"9.6\" \"8.6\" \"9.0\" \"9.6\" ...\n",
      " $ Italy                    : chr [1:418] \"12.8\" \"9.4\" \"9.1\" \"8.4\" ...\n",
      " $ Lithuania                : chr [1:418] \"22.0\" \"22.5\" \"21.1\" \"20.9\" ...\n",
      " $ Luxembourg               : chr [1:418] \"8.8\" \"8.8\" \"8.6\" \"9.3\" ...\n",
      " $ Latvia                   : chr [1:418] \"21.8\" \"22.0\" \"21.4\" \"21.3\" ...\n",
      " $ Malta                    : chr [1:418] \"7.5\" \"7.4\" \"7.0\" \"6.8\" ...\n",
      " $ Netherlands              : chr [1:418] \"16.8\" \"17.1\" \"13.7\" \"11.6\" ...\n",
      " $ Poland                   : chr [1:418] NA \"15.7\" \"14.8\" \"14.2\" ...\n",
      " $ Portugal                 : chr [1:418] \"10.6\" \"9.8\" \"9.3\" \"9.4\" ...\n",
      " $ Romania                  : chr [1:418] NA \"13.4\" \"13.3\" \"13.0\" ...\n",
      " $ Sweden                   : chr [1:418] NA \"10.3\" \"9.5\" \"8.3\" ...\n",
      " $ Slovenia                 : chr [1:418] \"10.3\" \"10.6\" \"11.5\" \"11.7\" ...\n",
      " $ Slovakia                 : chr [1:418] \"14.5\" \"13.6\" \"13.4\" \"12.8\" ...\n"
     ]
    }
   ],
   "source": [
    "# Getting more information about the structure of data objects\n",
    "str(eu_deposits_data)\n",
    "str(eu_inflation_data)"
   ]
  },
  {
   "cell_type": "code",
   "execution_count": 46,
   "id": "f4a75c75",
   "metadata": {},
   "outputs": [
    {
     "data": {
      "text/html": [
       "<table class=\"dataframe\">\n",
       "<caption>A tibble: 6 × 3</caption>\n",
       "<thead>\n",
       "\t<tr><th scope=col>Date</th><th scope=col>country</th><th scope=col>deposits</th></tr>\n",
       "\t<tr><th scope=col>&lt;chr&gt;</th><th scope=col>&lt;chr&gt;</th><th scope=col>&lt;chr&gt;</th></tr>\n",
       "</thead>\n",
       "<tbody>\n",
       "\t<tr><td>2022Sep</td><td>Austria..Euro               </td><td>0.80</td></tr>\n",
       "\t<tr><td>2022Sep</td><td>Belgium..Euro               </td><td>0.84</td></tr>\n",
       "\t<tr><td>2022Sep</td><td>Bulgaria..Bulgarian.lev     </td><td>0.12</td></tr>\n",
       "\t<tr><td>2022Sep</td><td>Cyprus..Euro                </td><td>0.11</td></tr>\n",
       "\t<tr><td>2022Sep</td><td>Czech.Republic..Czech.koruna</td><td>6.10</td></tr>\n",
       "\t<tr><td>2022Sep</td><td>Germany..Euro               </td><td>0.84</td></tr>\n",
       "</tbody>\n",
       "</table>\n"
      ],
      "text/latex": [
       "A tibble: 6 × 3\n",
       "\\begin{tabular}{lll}\n",
       " Date & country & deposits\\\\\n",
       " <chr> & <chr> & <chr>\\\\\n",
       "\\hline\n",
       "\t 2022Sep & Austria..Euro                & 0.80\\\\\n",
       "\t 2022Sep & Belgium..Euro                & 0.84\\\\\n",
       "\t 2022Sep & Bulgaria..Bulgarian.lev      & 0.12\\\\\n",
       "\t 2022Sep & Cyprus..Euro                 & 0.11\\\\\n",
       "\t 2022Sep & Czech.Republic..Czech.koruna & 6.10\\\\\n",
       "\t 2022Sep & Germany..Euro                & 0.84\\\\\n",
       "\\end{tabular}\n"
      ],
      "text/markdown": [
       "\n",
       "A tibble: 6 × 3\n",
       "\n",
       "| Date &lt;chr&gt; | country &lt;chr&gt; | deposits &lt;chr&gt; |\n",
       "|---|---|---|\n",
       "| 2022Sep | Austria..Euro                | 0.80 |\n",
       "| 2022Sep | Belgium..Euro                | 0.84 |\n",
       "| 2022Sep | Bulgaria..Bulgarian.lev      | 0.12 |\n",
       "| 2022Sep | Cyprus..Euro                 | 0.11 |\n",
       "| 2022Sep | Czech.Republic..Czech.koruna | 6.10 |\n",
       "| 2022Sep | Germany..Euro                | 0.84 |\n",
       "\n"
      ],
      "text/plain": [
       "  Date    country                      deposits\n",
       "1 2022Sep Austria..Euro                0.80    \n",
       "2 2022Sep Belgium..Euro                0.84    \n",
       "3 2022Sep Bulgaria..Bulgarian.lev      0.12    \n",
       "4 2022Sep Cyprus..Euro                 0.11    \n",
       "5 2022Sep Czech.Republic..Czech.koruna 6.10    \n",
       "6 2022Sep Germany..Euro                0.84    "
      ]
     },
     "metadata": {},
     "output_type": "display_data"
    },
    {
     "data": {
      "text/html": [
       "<table class=\"dataframe\">\n",
       "<caption>A tibble: 6 × 3</caption>\n",
       "<thead>\n",
       "\t<tr><th scope=col>Date</th><th scope=col>country</th><th scope=col>inflation</th></tr>\n",
       "\t<tr><th scope=col>&lt;chr&gt;</th><th scope=col>&lt;chr&gt;</th><th scope=col>&lt;chr&gt;</th></tr>\n",
       "</thead>\n",
       "<tbody>\n",
       "\t<tr><td>2022Oct</td><td>Austria                  </td><td>11.5</td></tr>\n",
       "\t<tr><td>2022Oct</td><td>Belgium                  </td><td>13.1</td></tr>\n",
       "\t<tr><td>2022Oct</td><td>Bulgaria                 </td><td>NA  </td></tr>\n",
       "\t<tr><td>2022Oct</td><td>Cyprus                   </td><td>8.6 </td></tr>\n",
       "\t<tr><td>2022Oct</td><td>Czech.Republic           </td><td>NA  </td></tr>\n",
       "\t<tr><td>2022Oct</td><td>EU..changing.composition.</td><td>NA  </td></tr>\n",
       "</tbody>\n",
       "</table>\n"
      ],
      "text/latex": [
       "A tibble: 6 × 3\n",
       "\\begin{tabular}{lll}\n",
       " Date & country & inflation\\\\\n",
       " <chr> & <chr> & <chr>\\\\\n",
       "\\hline\n",
       "\t 2022Oct & Austria                   & 11.5\\\\\n",
       "\t 2022Oct & Belgium                   & 13.1\\\\\n",
       "\t 2022Oct & Bulgaria                  & NA  \\\\\n",
       "\t 2022Oct & Cyprus                    & 8.6 \\\\\n",
       "\t 2022Oct & Czech.Republic            & NA  \\\\\n",
       "\t 2022Oct & EU..changing.composition. & NA  \\\\\n",
       "\\end{tabular}\n"
      ],
      "text/markdown": [
       "\n",
       "A tibble: 6 × 3\n",
       "\n",
       "| Date &lt;chr&gt; | country &lt;chr&gt; | inflation &lt;chr&gt; |\n",
       "|---|---|---|\n",
       "| 2022Oct | Austria                   | 11.5 |\n",
       "| 2022Oct | Belgium                   | 13.1 |\n",
       "| 2022Oct | Bulgaria                  | NA   |\n",
       "| 2022Oct | Cyprus                    | 8.6  |\n",
       "| 2022Oct | Czech.Republic            | NA   |\n",
       "| 2022Oct | EU..changing.composition. | NA   |\n",
       "\n"
      ],
      "text/plain": [
       "  Date    country                   inflation\n",
       "1 2022Oct Austria                   11.5     \n",
       "2 2022Oct Belgium                   13.1     \n",
       "3 2022Oct Bulgaria                  NA       \n",
       "4 2022Oct Cyprus                    8.6      \n",
       "5 2022Oct Czech.Republic            NA       \n",
       "6 2022Oct EU..changing.composition. NA       "
      ]
     },
     "metadata": {},
     "output_type": "display_data"
    }
   ],
   "source": [
    "head(eu_deposits_data)\n",
    "head(eu_inflation_data)"
   ]
  },
  {
   "cell_type": "code",
   "execution_count": 47,
   "id": "ff035d42",
   "metadata": {},
   "outputs": [
    {
     "data": {
      "text/html": [
       "<style>\n",
       ".dl-inline {width: auto; margin:0; padding: 0}\n",
       ".dl-inline>dt, .dl-inline>dd {float: none; width: auto; display: inline-block}\n",
       ".dl-inline>dt::after {content: \":\\0020\"; padding-right: .5ex}\n",
       ".dl-inline>dt:not(:first-of-type) {padding-left: .5ex}\n",
       "</style><dl class=dl-inline><dt>Date</dt><dd>0</dd><dt>country</dt><dd>0</dd><dt>deposits</dt><dd>10080</dd></dl>\n"
      ],
      "text/latex": [
       "\\begin{description*}\n",
       "\\item[Date] 0\n",
       "\\item[country] 0\n",
       "\\item[deposits] 10080\n",
       "\\end{description*}\n"
      ],
      "text/markdown": [
       "Date\n",
       ":   0country\n",
       ":   0deposits\n",
       ":   10080\n",
       "\n"
      ],
      "text/plain": [
       "    Date  country deposits \n",
       "       0        0    10080 "
      ]
     },
     "metadata": {},
     "output_type": "display_data"
    },
    {
     "data": {
      "text/html": [
       "<style>\n",
       ".dl-inline {width: auto; margin:0; padding: 0}\n",
       ".dl-inline>dt, .dl-inline>dd {float: none; width: auto; display: inline-block}\n",
       ".dl-inline>dt::after {content: \":\\0020\"; padding-right: .5ex}\n",
       ".dl-inline>dt:not(:first-of-type) {padding-left: .5ex}\n",
       "</style><dl class=dl-inline><dt>Date</dt><dd>0</dd><dt>country</dt><dd>0</dd><dt>inflation</dt><dd>2768</dd></dl>\n"
      ],
      "text/latex": [
       "\\begin{description*}\n",
       "\\item[Date] 0\n",
       "\\item[country] 0\n",
       "\\item[inflation] 2768\n",
       "\\end{description*}\n"
      ],
      "text/markdown": [
       "Date\n",
       ":   0country\n",
       ":   0inflation\n",
       ":   2768\n",
       "\n"
      ],
      "text/plain": [
       "     Date   country inflation \n",
       "        0         0      2768 "
      ]
     },
     "metadata": {},
     "output_type": "display_data"
    }
   ],
   "source": [
    "# Checking if columns of our data have any missing values\n",
    "apply(eu_deposits_data, 2, function(col) sum(is.na(col)))\n",
    "apply(eu_inflation_data, 2, function(col) sum(is.na(col)))"
   ]
  },
  {
   "cell_type": "code",
   "execution_count": 57,
   "id": "c98d9557",
   "metadata": {},
   "outputs": [],
   "source": [
    "substring <- \"Euro\"\n",
    "euro_zone <- eu_deposits_data[grepl(substring, eu_deposits_data$country, fixed=TRUE),]"
   ]
  },
  {
   "cell_type": "code",
   "execution_count": 50,
   "id": "e4a322bb",
   "metadata": {},
   "outputs": [
    {
     "data": {
      "text/html": [
       "<table class=\"dataframe\">\n",
       "<caption>A tibble: 6 × 3</caption>\n",
       "<thead>\n",
       "\t<tr><th scope=col>Date</th><th scope=col>country</th><th scope=col>deposits</th></tr>\n",
       "\t<tr><th scope=col>&lt;chr&gt;</th><th scope=col>&lt;chr&gt;</th><th scope=col>&lt;chr&gt;</th></tr>\n",
       "</thead>\n",
       "<tbody>\n",
       "\t<tr><td>2022Sep</td><td>Austria..Euro</td><td>0.80</td></tr>\n",
       "\t<tr><td>2022Sep</td><td>Belgium..Euro</td><td>0.84</td></tr>\n",
       "\t<tr><td>2022Sep</td><td>Cyprus..Euro </td><td>0.11</td></tr>\n",
       "\t<tr><td>2022Sep</td><td>Germany..Euro</td><td>0.84</td></tr>\n",
       "\t<tr><td>2022Sep</td><td>Estonia..Euro</td><td>0.94</td></tr>\n",
       "\t<tr><td>2022Sep</td><td>Spain..Euro  </td><td>0.16</td></tr>\n",
       "</tbody>\n",
       "</table>\n"
      ],
      "text/latex": [
       "A tibble: 6 × 3\n",
       "\\begin{tabular}{lll}\n",
       " Date & country & deposits\\\\\n",
       " <chr> & <chr> & <chr>\\\\\n",
       "\\hline\n",
       "\t 2022Sep & Austria..Euro & 0.80\\\\\n",
       "\t 2022Sep & Belgium..Euro & 0.84\\\\\n",
       "\t 2022Sep & Cyprus..Euro  & 0.11\\\\\n",
       "\t 2022Sep & Germany..Euro & 0.84\\\\\n",
       "\t 2022Sep & Estonia..Euro & 0.94\\\\\n",
       "\t 2022Sep & Spain..Euro   & 0.16\\\\\n",
       "\\end{tabular}\n"
      ],
      "text/markdown": [
       "\n",
       "A tibble: 6 × 3\n",
       "\n",
       "| Date &lt;chr&gt; | country &lt;chr&gt; | deposits &lt;chr&gt; |\n",
       "|---|---|---|\n",
       "| 2022Sep | Austria..Euro | 0.80 |\n",
       "| 2022Sep | Belgium..Euro | 0.84 |\n",
       "| 2022Sep | Cyprus..Euro  | 0.11 |\n",
       "| 2022Sep | Germany..Euro | 0.84 |\n",
       "| 2022Sep | Estonia..Euro | 0.94 |\n",
       "| 2022Sep | Spain..Euro   | 0.16 |\n",
       "\n"
      ],
      "text/plain": [
       "  Date    country       deposits\n",
       "1 2022Sep Austria..Euro 0.80    \n",
       "2 2022Sep Belgium..Euro 0.84    \n",
       "3 2022Sep Cyprus..Euro  0.11    \n",
       "4 2022Sep Germany..Euro 0.84    \n",
       "5 2022Sep Estonia..Euro 0.94    \n",
       "6 2022Sep Spain..Euro   0.16    "
      ]
     },
     "metadata": {},
     "output_type": "display_data"
    }
   ],
   "source": [
    "head(euro_zone)"
   ]
  },
  {
   "cell_type": "code",
   "execution_count": 58,
   "id": "1400a8be",
   "metadata": {},
   "outputs": [],
   "source": [
    "euro_zone <- substring(euro_zone$country, 1, nchar(euro_zone$country)-6)"
   ]
  },
  {
   "cell_type": "code",
   "execution_count": 61,
   "id": "51b9dbd7",
   "metadata": {},
   "outputs": [
    {
     "data": {
      "text/html": [
       "<style>\n",
       ".list-inline {list-style: none; margin:0; padding: 0}\n",
       ".list-inline>li {display: inline-block}\n",
       ".list-inline>li:not(:last-child)::after {content: \"\\00b7\"; padding: 0 .5ex}\n",
       "</style>\n",
       "<ol class=list-inline><li>'Austria'</li><li>'Belgium'</li><li>'Cyprus'</li><li>'Germany'</li><li>'Estonia'</li><li>'Spain'</li><li>'Finland'</li><li>'France'</li><li>'Greece'</li><li>'Ireland'</li><li>'Italy'</li><li>'Lithuania'</li><li>'Luxembourg'</li><li>'Latvia'</li><li>'Malta'</li><li>'Netherlands'</li><li>'Portugal'</li><li>'Slovenia'</li><li>'Slovakia'</li></ol>\n"
      ],
      "text/latex": [
       "\\begin{enumerate*}\n",
       "\\item 'Austria'\n",
       "\\item 'Belgium'\n",
       "\\item 'Cyprus'\n",
       "\\item 'Germany'\n",
       "\\item 'Estonia'\n",
       "\\item 'Spain'\n",
       "\\item 'Finland'\n",
       "\\item 'France'\n",
       "\\item 'Greece'\n",
       "\\item 'Ireland'\n",
       "\\item 'Italy'\n",
       "\\item 'Lithuania'\n",
       "\\item 'Luxembourg'\n",
       "\\item 'Latvia'\n",
       "\\item 'Malta'\n",
       "\\item 'Netherlands'\n",
       "\\item 'Portugal'\n",
       "\\item 'Slovenia'\n",
       "\\item 'Slovakia'\n",
       "\\end{enumerate*}\n"
      ],
      "text/markdown": [
       "1. 'Austria'\n",
       "2. 'Belgium'\n",
       "3. 'Cyprus'\n",
       "4. 'Germany'\n",
       "5. 'Estonia'\n",
       "6. 'Spain'\n",
       "7. 'Finland'\n",
       "8. 'France'\n",
       "9. 'Greece'\n",
       "10. 'Ireland'\n",
       "11. 'Italy'\n",
       "12. 'Lithuania'\n",
       "13. 'Luxembourg'\n",
       "14. 'Latvia'\n",
       "15. 'Malta'\n",
       "16. 'Netherlands'\n",
       "17. 'Portugal'\n",
       "18. 'Slovenia'\n",
       "19. 'Slovakia'\n",
       "\n",
       "\n"
      ],
      "text/plain": [
       " [1] \"Austria\"     \"Belgium\"     \"Cyprus\"      \"Germany\"     \"Estonia\"    \n",
       " [6] \"Spain\"       \"Finland\"     \"France\"      \"Greece\"      \"Ireland\"    \n",
       "[11] \"Italy\"       \"Lithuania\"   \"Luxembourg\"  \"Latvia\"      \"Malta\"      \n",
       "[16] \"Netherlands\" \"Portugal\"    \"Slovenia\"    \"Slovakia\"   "
      ]
     },
     "metadata": {},
     "output_type": "display_data"
    }
   ],
   "source": [
    "euro_zone <- unique(euro_zone)\n",
    "euro_zone"
   ]
  },
  {
   "cell_type": "code",
   "execution_count": 71,
   "id": "78fdd133",
   "metadata": {},
   "outputs": [
    {
     "data": {
      "text/html": [
       "<table class=\"dataframe\">\n",
       "<caption>A tibble: 6 × 3</caption>\n",
       "<thead>\n",
       "\t<tr><th scope=col>Date</th><th scope=col>country</th><th scope=col>inflation</th></tr>\n",
       "\t<tr><th scope=col>&lt;chr&gt;</th><th scope=col>&lt;chr&gt;</th><th scope=col>&lt;chr&gt;</th></tr>\n",
       "</thead>\n",
       "<tbody>\n",
       "\t<tr><td>2022Oct</td><td>Austria</td><td>11.5</td></tr>\n",
       "\t<tr><td>2022Oct</td><td>Belgium</td><td>13.1</td></tr>\n",
       "\t<tr><td>2022Oct</td><td>Cyprus </td><td>8.6 </td></tr>\n",
       "\t<tr><td>2022Oct</td><td>Germany</td><td>11.6</td></tr>\n",
       "\t<tr><td>2022Oct</td><td>Estonia</td><td>22.4</td></tr>\n",
       "\t<tr><td>2022Oct</td><td>Spain  </td><td>7.3 </td></tr>\n",
       "</tbody>\n",
       "</table>\n"
      ],
      "text/latex": [
       "A tibble: 6 × 3\n",
       "\\begin{tabular}{lll}\n",
       " Date & country & inflation\\\\\n",
       " <chr> & <chr> & <chr>\\\\\n",
       "\\hline\n",
       "\t 2022Oct & Austria & 11.5\\\\\n",
       "\t 2022Oct & Belgium & 13.1\\\\\n",
       "\t 2022Oct & Cyprus  & 8.6 \\\\\n",
       "\t 2022Oct & Germany & 11.6\\\\\n",
       "\t 2022Oct & Estonia & 22.4\\\\\n",
       "\t 2022Oct & Spain   & 7.3 \\\\\n",
       "\\end{tabular}\n"
      ],
      "text/markdown": [
       "\n",
       "A tibble: 6 × 3\n",
       "\n",
       "| Date &lt;chr&gt; | country &lt;chr&gt; | inflation &lt;chr&gt; |\n",
       "|---|---|---|\n",
       "| 2022Oct | Austria | 11.5 |\n",
       "| 2022Oct | Belgium | 13.1 |\n",
       "| 2022Oct | Cyprus  | 8.6  |\n",
       "| 2022Oct | Germany | 11.6 |\n",
       "| 2022Oct | Estonia | 22.4 |\n",
       "| 2022Oct | Spain   | 7.3  |\n",
       "\n"
      ],
      "text/plain": [
       "  Date    country inflation\n",
       "1 2022Oct Austria 11.5     \n",
       "2 2022Oct Belgium 13.1     \n",
       "3 2022Oct Cyprus  8.6      \n",
       "4 2022Oct Germany 11.6     \n",
       "5 2022Oct Estonia 22.4     \n",
       "6 2022Oct Spain   7.3      "
      ]
     },
     "metadata": {},
     "output_type": "display_data"
    },
    {
     "data": {
      "text/html": [
       "<table class=\"dataframe\">\n",
       "<caption>A tibble: 6 × 3</caption>\n",
       "<thead>\n",
       "\t<tr><th scope=col>Date</th><th scope=col>country</th><th scope=col>inflation</th></tr>\n",
       "\t<tr><th scope=col>&lt;chr&gt;</th><th scope=col>&lt;chr&gt;</th><th scope=col>&lt;chr&gt;</th></tr>\n",
       "</thead>\n",
       "<tbody>\n",
       "\t<tr><td>2018Jan</td><td>Austria</td><td>1.9 </td></tr>\n",
       "\t<tr><td>2018Jan</td><td>Belgium</td><td>1.8 </td></tr>\n",
       "\t<tr><td>2018Jan</td><td>Cyprus </td><td>-1.5</td></tr>\n",
       "\t<tr><td>2018Jan</td><td>Germany</td><td>1.5 </td></tr>\n",
       "\t<tr><td>2018Jan</td><td>Estonia</td><td>3.6 </td></tr>\n",
       "\t<tr><td>2018Jan</td><td>Spain  </td><td>0.7 </td></tr>\n",
       "</tbody>\n",
       "</table>\n"
      ],
      "text/latex": [
       "A tibble: 6 × 3\n",
       "\\begin{tabular}{lll}\n",
       " Date & country & inflation\\\\\n",
       " <chr> & <chr> & <chr>\\\\\n",
       "\\hline\n",
       "\t 2018Jan & Austria & 1.9 \\\\\n",
       "\t 2018Jan & Belgium & 1.8 \\\\\n",
       "\t 2018Jan & Cyprus  & -1.5\\\\\n",
       "\t 2018Jan & Germany & 1.5 \\\\\n",
       "\t 2018Jan & Estonia & 3.6 \\\\\n",
       "\t 2018Jan & Spain   & 0.7 \\\\\n",
       "\\end{tabular}\n"
      ],
      "text/markdown": [
       "\n",
       "A tibble: 6 × 3\n",
       "\n",
       "| Date &lt;chr&gt; | country &lt;chr&gt; | inflation &lt;chr&gt; |\n",
       "|---|---|---|\n",
       "| 2018Jan | Austria | 1.9  |\n",
       "| 2018Jan | Belgium | 1.8  |\n",
       "| 2018Jan | Cyprus  | -1.5 |\n",
       "| 2018Jan | Germany | 1.5  |\n",
       "| 2018Jan | Estonia | 3.6  |\n",
       "| 2018Jan | Spain   | 0.7  |\n",
       "\n"
      ],
      "text/plain": [
       "  Date    country inflation\n",
       "1 2018Jan Austria 1.9      \n",
       "2 2018Jan Belgium 1.8      \n",
       "3 2018Jan Cyprus  -1.5     \n",
       "4 2018Jan Germany 1.5      \n",
       "5 2018Jan Estonia 3.6      \n",
       "6 2018Jan Spain   0.7      "
      ]
     },
     "metadata": {},
     "output_type": "display_data"
    }
   ],
   "source": [
    "inflation_euro_zone <- eu_inflation_data %>% filter(country %in% euro_zone)\n",
    "head(inflation_euro_zone)\n",
    "# inflation_euro_zone |> filter(startsWith(Date, '2018')) |> head()\n",
    "inflation_euro_zone |> filter(Date == '2018Jan') |> head()"
   ]
  },
  {
   "cell_type": "code",
   "execution_count": 63,
   "id": "014e7ea8",
   "metadata": {},
   "outputs": [
    {
     "data": {
      "text/html": [
       "<table class=\"dataframe\">\n",
       "<caption>A tibble: 6 × 3</caption>\n",
       "<thead>\n",
       "\t<tr><th scope=col>Date</th><th scope=col>country</th><th scope=col>inflation</th></tr>\n",
       "\t<tr><th scope=col>&lt;chr&gt;</th><th scope=col>&lt;chr&gt;</th><th scope=col>&lt;chr&gt;</th></tr>\n",
       "</thead>\n",
       "<tbody>\n",
       "\t<tr><td>2022Oct</td><td>Bulgaria                 </td><td>NA</td></tr>\n",
       "\t<tr><td>2022Oct</td><td>Czech.Republic           </td><td>NA</td></tr>\n",
       "\t<tr><td>2022Oct</td><td>EU..changing.composition.</td><td>NA</td></tr>\n",
       "\t<tr><td>2022Oct</td><td>Denmark                  </td><td>NA</td></tr>\n",
       "\t<tr><td>2022Oct</td><td>Croatia                  </td><td>NA</td></tr>\n",
       "\t<tr><td>2022Oct</td><td>Hungary                  </td><td>NA</td></tr>\n",
       "</tbody>\n",
       "</table>\n"
      ],
      "text/latex": [
       "A tibble: 6 × 3\n",
       "\\begin{tabular}{lll}\n",
       " Date & country & inflation\\\\\n",
       " <chr> & <chr> & <chr>\\\\\n",
       "\\hline\n",
       "\t 2022Oct & Bulgaria                  & NA\\\\\n",
       "\t 2022Oct & Czech.Republic            & NA\\\\\n",
       "\t 2022Oct & EU..changing.composition. & NA\\\\\n",
       "\t 2022Oct & Denmark                   & NA\\\\\n",
       "\t 2022Oct & Croatia                   & NA\\\\\n",
       "\t 2022Oct & Hungary                   & NA\\\\\n",
       "\\end{tabular}\n"
      ],
      "text/markdown": [
       "\n",
       "A tibble: 6 × 3\n",
       "\n",
       "| Date &lt;chr&gt; | country &lt;chr&gt; | inflation &lt;chr&gt; |\n",
       "|---|---|---|\n",
       "| 2022Oct | Bulgaria                  | NA |\n",
       "| 2022Oct | Czech.Republic            | NA |\n",
       "| 2022Oct | EU..changing.composition. | NA |\n",
       "| 2022Oct | Denmark                   | NA |\n",
       "| 2022Oct | Croatia                   | NA |\n",
       "| 2022Oct | Hungary                   | NA |\n",
       "\n"
      ],
      "text/plain": [
       "  Date    country                   inflation\n",
       "1 2022Oct Bulgaria                  NA       \n",
       "2 2022Oct Czech.Republic            NA       \n",
       "3 2022Oct EU..changing.composition. NA       \n",
       "4 2022Oct Denmark                   NA       \n",
       "5 2022Oct Croatia                   NA       \n",
       "6 2022Oct Hungary                   NA       "
      ]
     },
     "metadata": {},
     "output_type": "display_data"
    }
   ],
   "source": [
    "inflation_non_euro_zone <- eu_inflation_data %>% filter(!country %in% euro_zone)\n",
    "head(inflation_non_euro_zone)"
   ]
  },
  {
   "cell_type": "code",
   "execution_count": 64,
   "id": "fe078ad5",
   "metadata": {},
   "outputs": [],
   "source": [
    "pandemic <- \"2020Mar\"\n",
    "year_pandemic <- \"2021Mar\"\n",
    "attack_on_ukraine <- \"2022Mar\"\n",
    "now <- \"2022Sep\""
   ]
  },
  {
   "cell_type": "code",
   "execution_count": 80,
   "id": "958ab776",
   "metadata": {},
   "outputs": [
    {
     "name": "stderr",
     "output_type": "stream",
     "text": [
      "Warning message in Date == subset(Date, Date >= \"2018Jan\" & Date <= pandemic):\n",
      "“długość dłuszego obiektu nie jest wielokrotnością długości krótszego obiektu”\n",
      "Warning message in which(inflation_non_euro_zone$Date == year_pandemic):which(inflation_non_euro_zone$Date == :\n",
      "“wyrażenie liczbowe posiada 9 elementów: użyto tylko pierwszego”\n",
      "Warning message in which(inflation_non_euro_zone$Date == year_pandemic):which(inflation_non_euro_zone$Date == :\n",
      "“wyrażenie liczbowe posiada 9 elementów: użyto tylko pierwszego”\n",
      "Warning message in which(inflation_non_euro_zone$Date == attack_on_ukraine):which(inflation_non_euro_zone$Date == :\n",
      "“wyrażenie liczbowe posiada 9 elementów: użyto tylko pierwszego”\n",
      "Warning message in which(inflation_non_euro_zone$Date == attack_on_ukraine):which(inflation_non_euro_zone$Date == :\n",
      "“wyrażenie liczbowe posiada 9 elementów: użyto tylko pierwszego”\n"
     ]
    }
   ],
   "source": [
    "#split data into time intervals for non euro zone\n",
    "n = sum(inflation_non_euro_zone$Date == pandemic)\n",
    "pre_pandemic_inf_non_euro <- inflation_non_euro_zone[which(inflation_non_euro_zone$Date == \"2018Jan\")[1]:which(inflation_non_euro_zone$Date == pandemic)[n], ]\n",
    "year_pandemic_inf_non_euro <- inflation_non_euro_zone[which(inflation_non_euro_zone$Date == pandemic)[1]:which(inflation_non_euro_zone$Date == year_pandemic)[n], ]\n",
    "pre_attack_non_euro <- inflation_non_euro_zone[which(inflation_non_euro_zone$Date == year_pandemic)[1]:which(inflation_non_euro_zone$Date == attack_on_ukraine)[n], ]\n",
    "after_attack_non_euro <- inflation_non_euro_zone[which(inflation_non_euro_zone$Date == attack_on_ukraine)[1]:which(inflation_non_euro_zone$Date == now)[n], ]"
   ]
  },
  {
   "cell_type": "code",
   "execution_count": 66,
   "id": "2b1aad8a",
   "metadata": {},
   "outputs": [
    {
     "name": "stderr",
     "output_type": "stream",
     "text": [
      "Warning message in which(inflation_euro_zone$Date == \"2018Jan\"):which(inflation_euro_zone$Date == :\n",
      "“wyrażenie liczbowe posiada 19 elementów: użyto tylko pierwszego”\n",
      "Warning message in which(inflation_euro_zone$Date == \"2018Jan\"):which(inflation_euro_zone$Date == :\n",
      "“wyrażenie liczbowe posiada 19 elementów: użyto tylko pierwszego”\n",
      "Warning message in which(inflation_euro_zone$Date == pandemic):which(inflation_euro_zone$Date == :\n",
      "“wyrażenie liczbowe posiada 19 elementów: użyto tylko pierwszego”\n",
      "Warning message in which(inflation_euro_zone$Date == pandemic):which(inflation_euro_zone$Date == :\n",
      "“wyrażenie liczbowe posiada 19 elementów: użyto tylko pierwszego”\n",
      "Warning message in which(inflation_euro_zone$Date == year_pandemic):which(inflation_euro_zone$Date == :\n",
      "“wyrażenie liczbowe posiada 19 elementów: użyto tylko pierwszego”\n",
      "Warning message in which(inflation_euro_zone$Date == year_pandemic):which(inflation_euro_zone$Date == :\n",
      "“wyrażenie liczbowe posiada 19 elementów: użyto tylko pierwszego”\n",
      "Warning message in which(inflation_euro_zone$Date == attack_on_ukraine):which(inflation_euro_zone$Date == :\n",
      "“wyrażenie liczbowe posiada 19 elementów: użyto tylko pierwszego”\n",
      "Warning message in which(inflation_euro_zone$Date == attack_on_ukraine):which(inflation_euro_zone$Date == :\n",
      "“wyrażenie liczbowe posiada 19 elementów: użyto tylko pierwszego”\n"
     ]
    }
   ],
   "source": [
    "#split data into time intervals for euro zone\n",
    "n = sum(inflation_euro_zone$Date == pandemic)\n",
    "pre_pandemic_inf_euro <- inflation_euro_zone[which(inflation_euro_zone$Date == \"2018Jan\")[1]:which(inflation_euro_zone$Date == pandemic)[n], ]\n",
    "year_pandemic_inf_euro <- inflation_euro_zone[which(inflation_euro_zone$Date == pandemic)[1]:which(inflation_euro_zone$Date == year_pandemic), ]\n",
    "pre_attack_euro <- inflation_euro_zone[which(inflation_euro_zone$Date == year_pandemic)[1]:which(inflation_euro_zone$Date == attack_on_ukraine), ]\n",
    "after_attack_euro <- inflation_euro_zone[which(inflation_euro_zone$Date == attack_on_ukraine)[1]:which(inflation_euro_zone$Date == now), ]"
   ]
  },
  {
   "cell_type": "code",
   "execution_count": 72,
   "id": "15dffe79",
   "metadata": {},
   "outputs": [
    {
     "data": {
      "text/html": [
       "<table class=\"dataframe\">\n",
       "<caption>A tibble: 495 × 3</caption>\n",
       "<thead>\n",
       "\t<tr><th scope=col>Date</th><th scope=col>country</th><th scope=col>inflation</th></tr>\n",
       "\t<tr><th scope=col>&lt;chr&gt;</th><th scope=col>&lt;chr&gt;</th><th scope=col>&lt;chr&gt;</th></tr>\n",
       "</thead>\n",
       "<tbody>\n",
       "\t<tr><td>2018Jan</td><td>Austria    </td><td>1.9 </td></tr>\n",
       "\t<tr><td>2018Feb</td><td>Slovakia   </td><td>2.2 </td></tr>\n",
       "\t<tr><td>2018Feb</td><td>Slovenia   </td><td>1.4 </td></tr>\n",
       "\t<tr><td>2018Feb</td><td>Portugal   </td><td>0.7 </td></tr>\n",
       "\t<tr><td>2018Feb</td><td>Netherlands</td><td>1.3 </td></tr>\n",
       "\t<tr><td>2018Feb</td><td>Malta      </td><td>1.3 </td></tr>\n",
       "\t<tr><td>2018Feb</td><td>Latvia     </td><td>1.8 </td></tr>\n",
       "\t<tr><td>2018Feb</td><td>Luxembourg </td><td>1.1 </td></tr>\n",
       "\t<tr><td>2018Feb</td><td>Lithuania  </td><td>3.2 </td></tr>\n",
       "\t<tr><td>2018Feb</td><td>Italy      </td><td>0.5 </td></tr>\n",
       "\t<tr><td>2018Feb</td><td>Ireland    </td><td>0.7 </td></tr>\n",
       "\t<tr><td>2018Feb</td><td>Greece     </td><td>0.4 </td></tr>\n",
       "\t<tr><td>2018Feb</td><td>France     </td><td>1.3 </td></tr>\n",
       "\t<tr><td>2018Feb</td><td>Finland    </td><td>0.6 </td></tr>\n",
       "\t<tr><td>2018Feb</td><td>Spain      </td><td>1.2 </td></tr>\n",
       "\t<tr><td>2018Feb</td><td>Estonia    </td><td>3.2 </td></tr>\n",
       "\t<tr><td>2018Feb</td><td>Germany    </td><td>1.2 </td></tr>\n",
       "\t<tr><td>2018Feb</td><td>Cyprus     </td><td>-0.4</td></tr>\n",
       "\t<tr><td>2018Feb</td><td>Belgium    </td><td>1.5 </td></tr>\n",
       "\t<tr><td>2018Feb</td><td>Austria    </td><td>1.9 </td></tr>\n",
       "\t<tr><td>2018Mar</td><td>Slovakia   </td><td>2.5 </td></tr>\n",
       "\t<tr><td>2018Mar</td><td>Slovenia   </td><td>1.5 </td></tr>\n",
       "\t<tr><td>2018Mar</td><td>Portugal   </td><td>0.8 </td></tr>\n",
       "\t<tr><td>2018Mar</td><td>Netherlands</td><td>1.0 </td></tr>\n",
       "\t<tr><td>2018Mar</td><td>Malta      </td><td>1.3 </td></tr>\n",
       "\t<tr><td>2018Mar</td><td>Latvia     </td><td>2.3 </td></tr>\n",
       "\t<tr><td>2018Mar</td><td>Luxembourg </td><td>1.1 </td></tr>\n",
       "\t<tr><td>2018Mar</td><td>Lithuania  </td><td>2.5 </td></tr>\n",
       "\t<tr><td>2018Mar</td><td>Italy      </td><td>0.9 </td></tr>\n",
       "\t<tr><td>2018Mar</td><td>Ireland    </td><td>0.5 </td></tr>\n",
       "\t<tr><td>⋮</td><td>⋮</td><td>⋮</td></tr>\n",
       "\t<tr><td>2020Feb</td><td>Italy      </td><td>0.2</td></tr>\n",
       "\t<tr><td>2020Feb</td><td>Ireland    </td><td>0.9</td></tr>\n",
       "\t<tr><td>2020Feb</td><td>Greece     </td><td>0.4</td></tr>\n",
       "\t<tr><td>2020Feb</td><td>France     </td><td>1.6</td></tr>\n",
       "\t<tr><td>2020Feb</td><td>Finland    </td><td>1.1</td></tr>\n",
       "\t<tr><td>2020Feb</td><td>Spain      </td><td>0.9</td></tr>\n",
       "\t<tr><td>2020Feb</td><td>Estonia    </td><td>2.0</td></tr>\n",
       "\t<tr><td>2020Feb</td><td>Germany    </td><td>1.7</td></tr>\n",
       "\t<tr><td>2020Feb</td><td>Cyprus     </td><td>1.0</td></tr>\n",
       "\t<tr><td>2020Feb</td><td>Belgium    </td><td>1.0</td></tr>\n",
       "\t<tr><td>2020Feb</td><td>Austria    </td><td>2.2</td></tr>\n",
       "\t<tr><td>2020Mar</td><td>Slovakia   </td><td>2.4</td></tr>\n",
       "\t<tr><td>2020Mar</td><td>Slovenia   </td><td>0.7</td></tr>\n",
       "\t<tr><td>2020Mar</td><td>Portugal   </td><td>0.1</td></tr>\n",
       "\t<tr><td>2020Mar</td><td>Netherlands</td><td>1.1</td></tr>\n",
       "\t<tr><td>2020Mar</td><td>Malta      </td><td>1.2</td></tr>\n",
       "\t<tr><td>2020Mar</td><td>Latvia     </td><td>1.4</td></tr>\n",
       "\t<tr><td>2020Mar</td><td>Luxembourg </td><td>0.3</td></tr>\n",
       "\t<tr><td>2020Mar</td><td>Lithuania  </td><td>1.7</td></tr>\n",
       "\t<tr><td>2020Mar</td><td>Italy      </td><td>0.1</td></tr>\n",
       "\t<tr><td>2020Mar</td><td>Ireland    </td><td>0.5</td></tr>\n",
       "\t<tr><td>2020Mar</td><td>Greece     </td><td>0.2</td></tr>\n",
       "\t<tr><td>2020Mar</td><td>France     </td><td>0.8</td></tr>\n",
       "\t<tr><td>2020Mar</td><td>Finland    </td><td>0.9</td></tr>\n",
       "\t<tr><td>2020Mar</td><td>Spain      </td><td>0.1</td></tr>\n",
       "\t<tr><td>2020Mar</td><td>Estonia    </td><td>1.0</td></tr>\n",
       "\t<tr><td>2020Mar</td><td>Germany    </td><td>1.3</td></tr>\n",
       "\t<tr><td>2020Mar</td><td>Cyprus     </td><td>0.1</td></tr>\n",
       "\t<tr><td>2020Mar</td><td>Belgium    </td><td>0.4</td></tr>\n",
       "\t<tr><td>2020Mar</td><td>Austria    </td><td>1.6</td></tr>\n",
       "</tbody>\n",
       "</table>\n"
      ],
      "text/latex": [
       "A tibble: 495 × 3\n",
       "\\begin{tabular}{lll}\n",
       " Date & country & inflation\\\\\n",
       " <chr> & <chr> & <chr>\\\\\n",
       "\\hline\n",
       "\t 2018Jan & Austria     & 1.9 \\\\\n",
       "\t 2018Feb & Slovakia    & 2.2 \\\\\n",
       "\t 2018Feb & Slovenia    & 1.4 \\\\\n",
       "\t 2018Feb & Portugal    & 0.7 \\\\\n",
       "\t 2018Feb & Netherlands & 1.3 \\\\\n",
       "\t 2018Feb & Malta       & 1.3 \\\\\n",
       "\t 2018Feb & Latvia      & 1.8 \\\\\n",
       "\t 2018Feb & Luxembourg  & 1.1 \\\\\n",
       "\t 2018Feb & Lithuania   & 3.2 \\\\\n",
       "\t 2018Feb & Italy       & 0.5 \\\\\n",
       "\t 2018Feb & Ireland     & 0.7 \\\\\n",
       "\t 2018Feb & Greece      & 0.4 \\\\\n",
       "\t 2018Feb & France      & 1.3 \\\\\n",
       "\t 2018Feb & Finland     & 0.6 \\\\\n",
       "\t 2018Feb & Spain       & 1.2 \\\\\n",
       "\t 2018Feb & Estonia     & 3.2 \\\\\n",
       "\t 2018Feb & Germany     & 1.2 \\\\\n",
       "\t 2018Feb & Cyprus      & -0.4\\\\\n",
       "\t 2018Feb & Belgium     & 1.5 \\\\\n",
       "\t 2018Feb & Austria     & 1.9 \\\\\n",
       "\t 2018Mar & Slovakia    & 2.5 \\\\\n",
       "\t 2018Mar & Slovenia    & 1.5 \\\\\n",
       "\t 2018Mar & Portugal    & 0.8 \\\\\n",
       "\t 2018Mar & Netherlands & 1.0 \\\\\n",
       "\t 2018Mar & Malta       & 1.3 \\\\\n",
       "\t 2018Mar & Latvia      & 2.3 \\\\\n",
       "\t 2018Mar & Luxembourg  & 1.1 \\\\\n",
       "\t 2018Mar & Lithuania   & 2.5 \\\\\n",
       "\t 2018Mar & Italy       & 0.9 \\\\\n",
       "\t 2018Mar & Ireland     & 0.5 \\\\\n",
       "\t ⋮ & ⋮ & ⋮\\\\\n",
       "\t 2020Feb & Italy       & 0.2\\\\\n",
       "\t 2020Feb & Ireland     & 0.9\\\\\n",
       "\t 2020Feb & Greece      & 0.4\\\\\n",
       "\t 2020Feb & France      & 1.6\\\\\n",
       "\t 2020Feb & Finland     & 1.1\\\\\n",
       "\t 2020Feb & Spain       & 0.9\\\\\n",
       "\t 2020Feb & Estonia     & 2.0\\\\\n",
       "\t 2020Feb & Germany     & 1.7\\\\\n",
       "\t 2020Feb & Cyprus      & 1.0\\\\\n",
       "\t 2020Feb & Belgium     & 1.0\\\\\n",
       "\t 2020Feb & Austria     & 2.2\\\\\n",
       "\t 2020Mar & Slovakia    & 2.4\\\\\n",
       "\t 2020Mar & Slovenia    & 0.7\\\\\n",
       "\t 2020Mar & Portugal    & 0.1\\\\\n",
       "\t 2020Mar & Netherlands & 1.1\\\\\n",
       "\t 2020Mar & Malta       & 1.2\\\\\n",
       "\t 2020Mar & Latvia      & 1.4\\\\\n",
       "\t 2020Mar & Luxembourg  & 0.3\\\\\n",
       "\t 2020Mar & Lithuania   & 1.7\\\\\n",
       "\t 2020Mar & Italy       & 0.1\\\\\n",
       "\t 2020Mar & Ireland     & 0.5\\\\\n",
       "\t 2020Mar & Greece      & 0.2\\\\\n",
       "\t 2020Mar & France      & 0.8\\\\\n",
       "\t 2020Mar & Finland     & 0.9\\\\\n",
       "\t 2020Mar & Spain       & 0.1\\\\\n",
       "\t 2020Mar & Estonia     & 1.0\\\\\n",
       "\t 2020Mar & Germany     & 1.3\\\\\n",
       "\t 2020Mar & Cyprus      & 0.1\\\\\n",
       "\t 2020Mar & Belgium     & 0.4\\\\\n",
       "\t 2020Mar & Austria     & 1.6\\\\\n",
       "\\end{tabular}\n"
      ],
      "text/markdown": [
       "\n",
       "A tibble: 495 × 3\n",
       "\n",
       "| Date &lt;chr&gt; | country &lt;chr&gt; | inflation &lt;chr&gt; |\n",
       "|---|---|---|\n",
       "| 2018Jan | Austria     | 1.9  |\n",
       "| 2018Feb | Slovakia    | 2.2  |\n",
       "| 2018Feb | Slovenia    | 1.4  |\n",
       "| 2018Feb | Portugal    | 0.7  |\n",
       "| 2018Feb | Netherlands | 1.3  |\n",
       "| 2018Feb | Malta       | 1.3  |\n",
       "| 2018Feb | Latvia      | 1.8  |\n",
       "| 2018Feb | Luxembourg  | 1.1  |\n",
       "| 2018Feb | Lithuania   | 3.2  |\n",
       "| 2018Feb | Italy       | 0.5  |\n",
       "| 2018Feb | Ireland     | 0.7  |\n",
       "| 2018Feb | Greece      | 0.4  |\n",
       "| 2018Feb | France      | 1.3  |\n",
       "| 2018Feb | Finland     | 0.6  |\n",
       "| 2018Feb | Spain       | 1.2  |\n",
       "| 2018Feb | Estonia     | 3.2  |\n",
       "| 2018Feb | Germany     | 1.2  |\n",
       "| 2018Feb | Cyprus      | -0.4 |\n",
       "| 2018Feb | Belgium     | 1.5  |\n",
       "| 2018Feb | Austria     | 1.9  |\n",
       "| 2018Mar | Slovakia    | 2.5  |\n",
       "| 2018Mar | Slovenia    | 1.5  |\n",
       "| 2018Mar | Portugal    | 0.8  |\n",
       "| 2018Mar | Netherlands | 1.0  |\n",
       "| 2018Mar | Malta       | 1.3  |\n",
       "| 2018Mar | Latvia      | 2.3  |\n",
       "| 2018Mar | Luxembourg  | 1.1  |\n",
       "| 2018Mar | Lithuania   | 2.5  |\n",
       "| 2018Mar | Italy       | 0.9  |\n",
       "| 2018Mar | Ireland     | 0.5  |\n",
       "| ⋮ | ⋮ | ⋮ |\n",
       "| 2020Feb | Italy       | 0.2 |\n",
       "| 2020Feb | Ireland     | 0.9 |\n",
       "| 2020Feb | Greece      | 0.4 |\n",
       "| 2020Feb | France      | 1.6 |\n",
       "| 2020Feb | Finland     | 1.1 |\n",
       "| 2020Feb | Spain       | 0.9 |\n",
       "| 2020Feb | Estonia     | 2.0 |\n",
       "| 2020Feb | Germany     | 1.7 |\n",
       "| 2020Feb | Cyprus      | 1.0 |\n",
       "| 2020Feb | Belgium     | 1.0 |\n",
       "| 2020Feb | Austria     | 2.2 |\n",
       "| 2020Mar | Slovakia    | 2.4 |\n",
       "| 2020Mar | Slovenia    | 0.7 |\n",
       "| 2020Mar | Portugal    | 0.1 |\n",
       "| 2020Mar | Netherlands | 1.1 |\n",
       "| 2020Mar | Malta       | 1.2 |\n",
       "| 2020Mar | Latvia      | 1.4 |\n",
       "| 2020Mar | Luxembourg  | 0.3 |\n",
       "| 2020Mar | Lithuania   | 1.7 |\n",
       "| 2020Mar | Italy       | 0.1 |\n",
       "| 2020Mar | Ireland     | 0.5 |\n",
       "| 2020Mar | Greece      | 0.2 |\n",
       "| 2020Mar | France      | 0.8 |\n",
       "| 2020Mar | Finland     | 0.9 |\n",
       "| 2020Mar | Spain       | 0.1 |\n",
       "| 2020Mar | Estonia     | 1.0 |\n",
       "| 2020Mar | Germany     | 1.3 |\n",
       "| 2020Mar | Cyprus      | 0.1 |\n",
       "| 2020Mar | Belgium     | 0.4 |\n",
       "| 2020Mar | Austria     | 1.6 |\n",
       "\n"
      ],
      "text/plain": [
       "    Date    country     inflation\n",
       "1   2018Jan Austria     1.9      \n",
       "2   2018Feb Slovakia    2.2      \n",
       "3   2018Feb Slovenia    1.4      \n",
       "4   2018Feb Portugal    0.7      \n",
       "5   2018Feb Netherlands 1.3      \n",
       "6   2018Feb Malta       1.3      \n",
       "7   2018Feb Latvia      1.8      \n",
       "8   2018Feb Luxembourg  1.1      \n",
       "9   2018Feb Lithuania   3.2      \n",
       "10  2018Feb Italy       0.5      \n",
       "11  2018Feb Ireland     0.7      \n",
       "12  2018Feb Greece      0.4      \n",
       "13  2018Feb France      1.3      \n",
       "14  2018Feb Finland     0.6      \n",
       "15  2018Feb Spain       1.2      \n",
       "16  2018Feb Estonia     3.2      \n",
       "17  2018Feb Germany     1.2      \n",
       "18  2018Feb Cyprus      -0.4     \n",
       "19  2018Feb Belgium     1.5      \n",
       "20  2018Feb Austria     1.9      \n",
       "21  2018Mar Slovakia    2.5      \n",
       "22  2018Mar Slovenia    1.5      \n",
       "23  2018Mar Portugal    0.8      \n",
       "24  2018Mar Netherlands 1.0      \n",
       "25  2018Mar Malta       1.3      \n",
       "26  2018Mar Latvia      2.3      \n",
       "27  2018Mar Luxembourg  1.1      \n",
       "28  2018Mar Lithuania   2.5      \n",
       "29  2018Mar Italy       0.9      \n",
       "30  2018Mar Ireland     0.5      \n",
       "⋮   ⋮       ⋮           ⋮        \n",
       "466 2020Feb Italy       0.2      \n",
       "467 2020Feb Ireland     0.9      \n",
       "468 2020Feb Greece      0.4      \n",
       "469 2020Feb France      1.6      \n",
       "470 2020Feb Finland     1.1      \n",
       "471 2020Feb Spain       0.9      \n",
       "472 2020Feb Estonia     2.0      \n",
       "473 2020Feb Germany     1.7      \n",
       "474 2020Feb Cyprus      1.0      \n",
       "475 2020Feb Belgium     1.0      \n",
       "476 2020Feb Austria     2.2      \n",
       "477 2020Mar Slovakia    2.4      \n",
       "478 2020Mar Slovenia    0.7      \n",
       "479 2020Mar Portugal    0.1      \n",
       "480 2020Mar Netherlands 1.1      \n",
       "481 2020Mar Malta       1.2      \n",
       "482 2020Mar Latvia      1.4      \n",
       "483 2020Mar Luxembourg  0.3      \n",
       "484 2020Mar Lithuania   1.7      \n",
       "485 2020Mar Italy       0.1      \n",
       "486 2020Mar Ireland     0.5      \n",
       "487 2020Mar Greece      0.2      \n",
       "488 2020Mar France      0.8      \n",
       "489 2020Mar Finland     0.9      \n",
       "490 2020Mar Spain       0.1      \n",
       "491 2020Mar Estonia     1.0      \n",
       "492 2020Mar Germany     1.3      \n",
       "493 2020Mar Cyprus      0.1      \n",
       "494 2020Mar Belgium     0.4      \n",
       "495 2020Mar Austria     1.6      "
      ]
     },
     "metadata": {},
     "output_type": "display_data"
    }
   ],
   "source": [
    "pre_pandemic_inf_euro"
   ]
  },
  {
   "cell_type": "code",
   "execution_count": 36,
   "id": "25e5f463",
   "metadata": {},
   "outputs": [
    {
     "data": {
      "image/png": "[encoded data removed]",
      "text/plain": [
       "plot without title"
      ]
     },
     "metadata": {
      "image/png": {
       "height": 480,
       "width": 960
      }
     },
     "output_type": "display_data"
    }
   ],
   "source": [
    "options(repr.plot.width=16, repr.plot.height=8)\n",
    "pre_pandemic_inf_euro |> mutate(Date = as.factor(Date)) |> ggplot(aes(Date, Germany, group = 1)) + geom_line()"
   ]
  },
  {
   "cell_type": "code",
   "execution_count": null,
   "id": "83a3fcd3",
   "metadata": {},
   "outputs": [],
   "source": []
  }
 ],
 "metadata": {
  "kernelspec": {
   "display_name": "R",
   "language": "R",
   "name": "ir"
  },
  "language_info": {
   "codemirror_mode": "r",
   "file_extension": ".r",
   "mimetype": "text/x-r-source",
   "name": "R",
   "pygments_lexer": "r",
   "version": "4.1.3"
  }
 },
 "nbformat": 4,
 "nbformat_minor": 5
}
