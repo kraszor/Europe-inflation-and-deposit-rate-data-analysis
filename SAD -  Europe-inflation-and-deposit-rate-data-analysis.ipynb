{
 "cells": [
  {
   "cell_type": "code",
   "execution_count": 1,
   "id": "66739707",
   "metadata": {},
   "outputs": [
    {
     "name": "stderr",
     "output_type": "stream",
     "text": [
      "── \u001b[1mAttaching packages\u001b[22m ─────────────────────────────────────── tidyverse 1.3.2 ──\n",
      "\u001b[32m✔\u001b[39m \u001b[34mggplot2\u001b[39m 3.3.6     \u001b[32m✔\u001b[39m \u001b[34mpurrr  \u001b[39m 0.3.4\n",
      "\u001b[32m✔\u001b[39m \u001b[34mtibble \u001b[39m 3.1.8     \u001b[32m✔\u001b[39m \u001b[34mdplyr  \u001b[39m 1.0.9\n",
      "\u001b[32m✔\u001b[39m \u001b[34mtidyr  \u001b[39m 1.2.0     \u001b[32m✔\u001b[39m \u001b[34mstringr\u001b[39m 1.4.0\n",
      "\u001b[32m✔\u001b[39m \u001b[34mreadr  \u001b[39m 2.1.2     \u001b[32m✔\u001b[39m \u001b[34mforcats\u001b[39m 0.5.1\n",
      "── \u001b[1mConflicts\u001b[22m ────────────────────────────────────────── tidyverse_conflicts() ──\n",
      "\u001b[31m✖\u001b[39m \u001b[34mdplyr\u001b[39m::\u001b[32mfilter()\u001b[39m masks \u001b[34mstats\u001b[39m::filter()\n",
      "\u001b[31m✖\u001b[39m \u001b[34mdplyr\u001b[39m::\u001b[32mlag()\u001b[39m    masks \u001b[34mstats\u001b[39m::lag()\n",
      "Ładowanie wymaganego pakietu: lattice\n",
      "\n",
      "\n",
      "Dołączanie pakietu: ‘caret’\n",
      "\n",
      "\n",
      "Następujący obiekt został zakryty z ‘package:purrr’:\n",
      "\n",
      "    lift\n",
      "\n",
      "\n"
     ]
    }
   ],
   "source": [
    "# Loading necessary libraries\n",
    "library(\"tidyverse\")\n",
    "library(\"caret\")"
   ]
  },
  {
   "cell_type": "code",
   "execution_count": 2,
   "id": "45795b6e",
   "metadata": {},
   "outputs": [
    {
     "data": {
      "text/html": [
       "<style>\n",
       ".list-inline {list-style: none; margin:0; padding: 0}\n",
       ".list-inline>li {display: inline-block}\n",
       ".list-inline>li:not(:last-child)::after {content: \"\\00b7\"; padding: 0 .5ex}\n",
       "</style>\n",
       "<ol class=list-inline><li>'Data Source in SDW: https://sdw.ecb.europa.eu/browse.do?node=9691394'</li><li>',MIR.M.AT.B.L22.F.R.A.2250.EUR.N,MIR.M.BE.B.L22.F.R.A.2250.EUR.N,MIR.M.BG.B.L22.F.R.A.2250.BGN.N,MIR.M.CY.B.L22.F.R.A.2250.EUR.N,MIR.M.CZ.B.L22.F.R.A.2250.CZK.N,MIR.M.DE.B.L22.F.R.A.2250.EUR.N,MIR.M.DK.B.L22.F.R.A.2250.DKK.N,MIR.M.EE.B.L22.F.R.A.2250.EEK.N,MIR.M.EE.B.L22.F.R.A.2250.EUR.N,MIR.M.ES.B.L22.F.R.A.2250.EUR.N,MIR.M.FI.B.L22.F.R.A.2250.EUR.N,MIR.M.FR.B.L22.F.R.A.2250.EUR.N,MIR.M.GR.B.L22.F.R.A.2250.EUR.N,MIR.M.HR.B.L22.F.R.A.2250.HRK.N,MIR.M.HU.B.L22.F.R.A.2250.HUF.N,MIR.M.IE.B.L22.F.R.A.2250.EUR.N,MIR.M.IT.B.L22.F.R.A.2250.EUR.N,MIR.M.LT.B.L22.F.R.A.2250.EUR.N,MIR.M.LT.B.L22.F.R.A.2250.LTL.N,MIR.M.LU.B.L22.F.R.A.2250.EUR.N,MIR.M.LV.B.L22.F.R.A.2250.EUR.N,MIR.M.LV.B.L22.F.R.A.2250.LVL.N,MIR.M.MT.B.L22.F.R.A.2250.EUR.N,MIR.M.MT.B.L22.F.R.A.2250.MTL.N,MIR.M.NL.B.L22.F.R.A.2250.EUR.N,MIR.M.PL.B.L22.F.R.A.2250.PLN.N,MIR.M.PT.B.L22.F.R.A.2250.EUR.N,MIR.M.RO.B.L22.F.R.A.2250.RON.N,MIR.M.SE.B.L22.F.R.A.2250.SEK.N,MIR.M.SI.B.L22.F.R.A.2250.EUR.N,MIR.M.SI.B.L22.F.R.A.2250.SIT.N,MIR.M.SK.B.L22.F.R.A.2250.EUR.N,MIR.M.SK.B.L22.F.R.A.2250.SKK.N'</li><li>',\"Austria, Euro\",\"Belgium, Euro\",\"Bulgaria, Bulgarian lev\",\"Cyprus, Euro\",\"Czech Republic, Czech koruna\",\"Germany, Euro\",\"Denmark, Danish krone\",\"Estonia, Estonian kroon\",\"Estonia, Euro\",\"Spain, Euro\",\"Finland, Euro\",\"France, Euro\",\"Greece, Euro\",\"Croatia, Croatian kuna\",\"Hungary, Hungarian forint\",\"Ireland, Euro\",\"Italy, Euro\",\"Lithuania, Euro\",\"Lithuania, Lithuanian litas\",\"Luxembourg, Euro\",\"Latvia, Euro\",\"Latvia, Latvian lats\",\"Malta, Euro\",\"Malta, Maltese lira\",\"Netherlands, Euro\",\"Poland, Polish zloty\",\"Portugal, Euro\",\"Romania, Romanian leu\",\"Sweden, Swedish krona\",\"Slovenia, Euro\",\"Slovenia, Slovenian tolar\",\"Slovakia, Euro\",\"Slovakia, Slovak koruna\"'</li></ol>\n"
      ],
      "text/latex": [
       "\\begin{enumerate*}\n",
       "\\item 'Data Source in SDW: https://sdw.ecb.europa.eu/browse.do?node=9691394'\n",
       "\\item ',MIR.M.AT.B.L22.F.R.A.2250.EUR.N,MIR.M.BE.B.L22.F.R.A.2250.EUR.N,MIR.M.BG.B.L22.F.R.A.2250.BGN.N,MIR.M.CY.B.L22.F.R.A.2250.EUR.N,MIR.M.CZ.B.L22.F.R.A.2250.CZK.N,MIR.M.DE.B.L22.F.R.A.2250.EUR.N,MIR.M.DK.B.L22.F.R.A.2250.DKK.N,MIR.M.EE.B.L22.F.R.A.2250.EEK.N,MIR.M.EE.B.L22.F.R.A.2250.EUR.N,MIR.M.ES.B.L22.F.R.A.2250.EUR.N,MIR.M.FI.B.L22.F.R.A.2250.EUR.N,MIR.M.FR.B.L22.F.R.A.2250.EUR.N,MIR.M.GR.B.L22.F.R.A.2250.EUR.N,MIR.M.HR.B.L22.F.R.A.2250.HRK.N,MIR.M.HU.B.L22.F.R.A.2250.HUF.N,MIR.M.IE.B.L22.F.R.A.2250.EUR.N,MIR.M.IT.B.L22.F.R.A.2250.EUR.N,MIR.M.LT.B.L22.F.R.A.2250.EUR.N,MIR.M.LT.B.L22.F.R.A.2250.LTL.N,MIR.M.LU.B.L22.F.R.A.2250.EUR.N,MIR.M.LV.B.L22.F.R.A.2250.EUR.N,MIR.M.LV.B.L22.F.R.A.2250.LVL.N,MIR.M.MT.B.L22.F.R.A.2250.EUR.N,MIR.M.MT.B.L22.F.R.A.2250.MTL.N,MIR.M.NL.B.L22.F.R.A.2250.EUR.N,MIR.M.PL.B.L22.F.R.A.2250.PLN.N,MIR.M.PT.B.L22.F.R.A.2250.EUR.N,MIR.M.RO.B.L22.F.R.A.2250.RON.N,MIR.M.SE.B.L22.F.R.A.2250.SEK.N,MIR.M.SI.B.L22.F.R.A.2250.EUR.N,MIR.M.SI.B.L22.F.R.A.2250.SIT.N,MIR.M.SK.B.L22.F.R.A.2250.EUR.N,MIR.M.SK.B.L22.F.R.A.2250.SKK.N'\n",
       "\\item ',\"Austria, Euro\",\"Belgium, Euro\",\"Bulgaria, Bulgarian lev\",\"Cyprus, Euro\",\"Czech Republic, Czech koruna\",\"Germany, Euro\",\"Denmark, Danish krone\",\"Estonia, Estonian kroon\",\"Estonia, Euro\",\"Spain, Euro\",\"Finland, Euro\",\"France, Euro\",\"Greece, Euro\",\"Croatia, Croatian kuna\",\"Hungary, Hungarian forint\",\"Ireland, Euro\",\"Italy, Euro\",\"Lithuania, Euro\",\"Lithuania, Lithuanian litas\",\"Luxembourg, Euro\",\"Latvia, Euro\",\"Latvia, Latvian lats\",\"Malta, Euro\",\"Malta, Maltese lira\",\"Netherlands, Euro\",\"Poland, Polish zloty\",\"Portugal, Euro\",\"Romania, Romanian leu\",\"Sweden, Swedish krona\",\"Slovenia, Euro\",\"Slovenia, Slovenian tolar\",\"Slovakia, Euro\",\"Slovakia, Slovak koruna\"'\n",
       "\\end{enumerate*}\n"
      ],
      "text/markdown": [
       "1. 'Data Source in SDW: https://sdw.ecb.europa.eu/browse.do?node=9691394'\n",
       "2. ',MIR.M.AT.B.L22.F.R.A.2250.EUR.N,MIR.M.BE.B.L22.F.R.A.2250.EUR.N,MIR.M.BG.B.L22.F.R.A.2250.BGN.N,MIR.M.CY.B.L22.F.R.A.2250.EUR.N,MIR.M.CZ.B.L22.F.R.A.2250.CZK.N,MIR.M.DE.B.L22.F.R.A.2250.EUR.N,MIR.M.DK.B.L22.F.R.A.2250.DKK.N,MIR.M.EE.B.L22.F.R.A.2250.EEK.N,MIR.M.EE.B.L22.F.R.A.2250.EUR.N,MIR.M.ES.B.L22.F.R.A.2250.EUR.N,MIR.M.FI.B.L22.F.R.A.2250.EUR.N,MIR.M.FR.B.L22.F.R.A.2250.EUR.N,MIR.M.GR.B.L22.F.R.A.2250.EUR.N,MIR.M.HR.B.L22.F.R.A.2250.HRK.N,MIR.M.HU.B.L22.F.R.A.2250.HUF.N,MIR.M.IE.B.L22.F.R.A.2250.EUR.N,MIR.M.IT.B.L22.F.R.A.2250.EUR.N,MIR.M.LT.B.L22.F.R.A.2250.EUR.N,MIR.M.LT.B.L22.F.R.A.2250.LTL.N,MIR.M.LU.B.L22.F.R.A.2250.EUR.N,MIR.M.LV.B.L22.F.R.A.2250.EUR.N,MIR.M.LV.B.L22.F.R.A.2250.LVL.N,MIR.M.MT.B.L22.F.R.A.2250.EUR.N,MIR.M.MT.B.L22.F.R.A.2250.MTL.N,MIR.M.NL.B.L22.F.R.A.2250.EUR.N,MIR.M.PL.B.L22.F.R.A.2250.PLN.N,MIR.M.PT.B.L22.F.R.A.2250.EUR.N,MIR.M.RO.B.L22.F.R.A.2250.RON.N,MIR.M.SE.B.L22.F.R.A.2250.SEK.N,MIR.M.SI.B.L22.F.R.A.2250.EUR.N,MIR.M.SI.B.L22.F.R.A.2250.SIT.N,MIR.M.SK.B.L22.F.R.A.2250.EUR.N,MIR.M.SK.B.L22.F.R.A.2250.SKK.N'\n",
       "3. ',\"Austria, Euro\",\"Belgium, Euro\",\"Bulgaria, Bulgarian lev\",\"Cyprus, Euro\",\"Czech Republic, Czech koruna\",\"Germany, Euro\",\"Denmark, Danish krone\",\"Estonia, Estonian kroon\",\"Estonia, Euro\",\"Spain, Euro\",\"Finland, Euro\",\"France, Euro\",\"Greece, Euro\",\"Croatia, Croatian kuna\",\"Hungary, Hungarian forint\",\"Ireland, Euro\",\"Italy, Euro\",\"Lithuania, Euro\",\"Lithuania, Lithuanian litas\",\"Luxembourg, Euro\",\"Latvia, Euro\",\"Latvia, Latvian lats\",\"Malta, Euro\",\"Malta, Maltese lira\",\"Netherlands, Euro\",\"Poland, Polish zloty\",\"Portugal, Euro\",\"Romania, Romanian leu\",\"Sweden, Swedish krona\",\"Slovenia, Euro\",\"Slovenia, Slovenian tolar\",\"Slovakia, Euro\",\"Slovakia, Slovak koruna\"'\n",
       "\n",
       "\n"
      ],
      "text/plain": [
       "[1] \"Data Source in SDW: https://sdw.ecb.europa.eu/browse.do?node=9691394\"                                                                                                                                                                                                                                                                                                                                                                                                                                                                                                                                                                                                                                                                                                                                                                                                                                                                                                                                                                                                                            \n",
       "[2] \",MIR.M.AT.B.L22.F.R.A.2250.EUR.N,MIR.M.BE.B.L22.F.R.A.2250.EUR.N,MIR.M.BG.B.L22.F.R.A.2250.BGN.N,MIR.M.CY.B.L22.F.R.A.2250.EUR.N,MIR.M.CZ.B.L22.F.R.A.2250.CZK.N,MIR.M.DE.B.L22.F.R.A.2250.EUR.N,MIR.M.DK.B.L22.F.R.A.2250.DKK.N,MIR.M.EE.B.L22.F.R.A.2250.EEK.N,MIR.M.EE.B.L22.F.R.A.2250.EUR.N,MIR.M.ES.B.L22.F.R.A.2250.EUR.N,MIR.M.FI.B.L22.F.R.A.2250.EUR.N,MIR.M.FR.B.L22.F.R.A.2250.EUR.N,MIR.M.GR.B.L22.F.R.A.2250.EUR.N,MIR.M.HR.B.L22.F.R.A.2250.HRK.N,MIR.M.HU.B.L22.F.R.A.2250.HUF.N,MIR.M.IE.B.L22.F.R.A.2250.EUR.N,MIR.M.IT.B.L22.F.R.A.2250.EUR.N,MIR.M.LT.B.L22.F.R.A.2250.EUR.N,MIR.M.LT.B.L22.F.R.A.2250.LTL.N,MIR.M.LU.B.L22.F.R.A.2250.EUR.N,MIR.M.LV.B.L22.F.R.A.2250.EUR.N,MIR.M.LV.B.L22.F.R.A.2250.LVL.N,MIR.M.MT.B.L22.F.R.A.2250.EUR.N,MIR.M.MT.B.L22.F.R.A.2250.MTL.N,MIR.M.NL.B.L22.F.R.A.2250.EUR.N,MIR.M.PL.B.L22.F.R.A.2250.PLN.N,MIR.M.PT.B.L22.F.R.A.2250.EUR.N,MIR.M.RO.B.L22.F.R.A.2250.RON.N,MIR.M.SE.B.L22.F.R.A.2250.SEK.N,MIR.M.SI.B.L22.F.R.A.2250.EUR.N,MIR.M.SI.B.L22.F.R.A.2250.SIT.N,MIR.M.SK.B.L22.F.R.A.2250.EUR.N,MIR.M.SK.B.L22.F.R.A.2250.SKK.N\"\n",
       "[3] \",\\\"Austria, Euro\\\",\\\"Belgium, Euro\\\",\\\"Bulgaria, Bulgarian lev\\\",\\\"Cyprus, Euro\\\",\\\"Czech Republic, Czech koruna\\\",\\\"Germany, Euro\\\",\\\"Denmark, Danish krone\\\",\\\"Estonia, Estonian kroon\\\",\\\"Estonia, Euro\\\",\\\"Spain, Euro\\\",\\\"Finland, Euro\\\",\\\"France, Euro\\\",\\\"Greece, Euro\\\",\\\"Croatia, Croatian kuna\\\",\\\"Hungary, Hungarian forint\\\",\\\"Ireland, Euro\\\",\\\"Italy, Euro\\\",\\\"Lithuania, Euro\\\",\\\"Lithuania, Lithuanian litas\\\",\\\"Luxembourg, Euro\\\",\\\"Latvia, Euro\\\",\\\"Latvia, Latvian lats\\\",\\\"Malta, Euro\\\",\\\"Malta, Maltese lira\\\",\\\"Netherlands, Euro\\\",\\\"Poland, Polish zloty\\\",\\\"Portugal, Euro\\\",\\\"Romania, Romanian leu\\\",\\\"Sweden, Swedish krona\\\",\\\"Slovenia, Euro\\\",\\\"Slovenia, Slovenian tolar\\\",\\\"Slovakia, Euro\\\",\\\"Slovakia, Slovak koruna\\\"\"                                                                                                                                                                                                                                                                                                                                    "
      ]
     },
     "metadata": {},
     "output_type": "display_data"
    },
    {
     "data": {
      "text/html": [
       "<style>\n",
       ".list-inline {list-style: none; margin:0; padding: 0}\n",
       ".list-inline>li {display: inline-block}\n",
       ".list-inline>li:not(:last-child)::after {content: \"\\00b7\"; padding: 0 .5ex}\n",
       "</style>\n",
       "<ol class=list-inline><li>'Data Source in SDW: https://sdw.ecb.europa.eu/browseChart.do?org.apache.struts.taglib.html.TOKEN=46c52daef2587d98a7880dbacfe169eb&amp;df=true&amp;ec=&amp;dc=&amp;oc=&amp;pb=&amp;rc=&amp;DATASET=0&amp;removeItem=&amp;removedItemList=&amp;mergeFilter=&amp;activeTab=ICP&amp;showHide=&amp;REF_AREA.19=AT&amp;REF_AREA.19=BE&amp;REF_AREA.19=BG&amp;REF_AREA.19=CY&amp;REF_AREA.19=CZ&amp;REF_AREA.19=D0&amp;REF_AREA.19=DE&amp;REF_AREA.19=DK&amp;REF_AREA.19=EE&amp;REF_AREA.19=ES&amp;REF_AREA.19=FI&amp;REF_AREA.19=FR&amp;REF_AREA.19=GR&amp;REF_AREA.19=HR&amp;REF_AREA.19=HU&amp;REF_AREA.19=IE&amp;REF_AREA.19=IT&amp;REF_AREA.19=LT&amp;REF_AREA.19=LU&amp;REF_AREA.19=LV&amp;REF_AREA.19=MT&amp;REF_AREA.19=NL&amp;REF_AREA.19=PL&amp;REF_AREA.19=PT&amp;REF_AREA.19=RO&amp;REF_AREA.19=SE&amp;REF_AREA.19=SI&amp;REF_AREA.19=SK&amp;ICP_ITEM.19=000000&amp;ICP_SUFFIX.19=ANR&amp;MAX_DOWNLOAD_SERIES=500&amp;SERIES_MAX_NUM=50&amp;node=9691209&amp;legendRef=reference&amp;legendNor=&amp;SERIES_KEY_checkall=on&amp;SERIES_KEY=122.ICP.M.BG.N.000000.4.ANR&amp;SERIES_KEY=122.ICP.M.CZ.N.000000.4.ANR&amp;SERIES_KEY=122.ICP.M.DK.N.000000.4.ANR&amp;SERIES_KEY=122.ICP.M.HR.N.000000.4.ANR&amp;SERIES_KEY=122.ICP.M.HU.N.000000.4.ANR&amp;SERIES_KEY=122.ICP.M.PL.N.000000.4.ANR&amp;SERIES_KEY=122.ICP.M.RO.N.000000.4.ANR&amp;SERIES_KEY=122.ICP.M.SE.N.000000.4.ANR&amp;SERIES_KEY=122.ICP.M.AT.N.000000.4.ANR&amp;SERIES_KEY=122.ICP.M.BE.N.000000.4.ANR&amp;SERIES_KEY=122.ICP.M.CY.N.000000.4.ANR&amp;SERIES_KEY=122.ICP.M.D0.N.000000.4.ANR&amp;SERIES_KEY=122.ICP.M.DE.N.000000.4.ANR&amp;SERIES_KEY=122.ICP.M.EE.N.000000.4.ANR&amp;SERIES_KEY=122.ICP.M.ES.N.000000.4.ANR&amp;SERIES_KEY=122.ICP.M.FI.N.000000.4.ANR&amp;SERIES_KEY=122.ICP.M.FR.N.000000.4.ANR&amp;SERIES_KEY=122.ICP.M.GR.N.000000.4.ANR&amp;SERIES_KEY=122.ICP.M.IE.N.000000.4.ANR&amp;SERIES_KEY=122.ICP.M.IT.N.000000.4.ANR&amp;SERIES_KEY=122.ICP.M.LT.N.000000.4.ANR&amp;SERIES_KEY=122.ICP.M.LU.N.000000.4.ANR&amp;SERIES_KEY=122.ICP.M.LV.N.000000.4.ANR&amp;SERIES_KEY=122.ICP.M.MT.N.000000.4.ANR&amp;SERIES_KEY=122.ICP.M.NL.N.000000.4.ANR&amp;SERIES_KEY=122.ICP.M.PT.N.000000.4.ANR&amp;SERIES_KEY=122.ICP.M.SI.N.000000.4.ANR&amp;SERIES_KEY=122.ICP.M.SK.N.000000.4.ANR'</li><li>',ICP.M.AT.N.000000.4.ANR,ICP.M.BE.N.000000.4.ANR,ICP.M.BG.N.000000.4.ANR,ICP.M.CY.N.000000.4.ANR,ICP.M.CZ.N.000000.4.ANR,ICP.M.D0.N.000000.4.ANR,ICP.M.DE.N.000000.4.ANR,ICP.M.DK.N.000000.4.ANR,ICP.M.EE.N.000000.4.ANR,ICP.M.ES.N.000000.4.ANR,ICP.M.FI.N.000000.4.ANR,ICP.M.FR.N.000000.4.ANR,ICP.M.GR.N.000000.4.ANR,ICP.M.HR.N.000000.4.ANR,ICP.M.HU.N.000000.4.ANR,ICP.M.IE.N.000000.4.ANR,ICP.M.IT.N.000000.4.ANR,ICP.M.LT.N.000000.4.ANR,ICP.M.LU.N.000000.4.ANR,ICP.M.LV.N.000000.4.ANR,ICP.M.MT.N.000000.4.ANR,ICP.M.NL.N.000000.4.ANR,ICP.M.PL.N.000000.4.ANR,ICP.M.PT.N.000000.4.ANR,ICP.M.RO.N.000000.4.ANR,ICP.M.SE.N.000000.4.ANR,ICP.M.SI.N.000000.4.ANR,ICP.M.SK.N.000000.4.ANR'</li><li>',Austria,Belgium,Bulgaria,Cyprus,Czech Republic,EU (changing composition),Germany,Denmark,Estonia,Spain,Finland,France,Greece,Croatia,Hungary,Ireland,Italy,Lithuania,Luxembourg,Latvia,Malta,Netherlands,Poland,Portugal,Romania,Sweden,Slovenia,Slovakia'</li></ol>\n"
      ],
      "text/latex": [
       "\\begin{enumerate*}\n",
       "\\item 'Data Source in SDW: https://sdw.ecb.europa.eu/browseChart.do?org.apache.struts.taglib.html.TOKEN=46c52daef2587d98a7880dbacfe169eb\\&df=true\\&ec=\\&dc=\\&oc=\\&pb=\\&rc=\\&DATASET=0\\&removeItem=\\&removedItemList=\\&mergeFilter=\\&activeTab=ICP\\&showHide=\\&REF\\_AREA.19=AT\\&REF\\_AREA.19=BE\\&REF\\_AREA.19=BG\\&REF\\_AREA.19=CY\\&REF\\_AREA.19=CZ\\&REF\\_AREA.19=D0\\&REF\\_AREA.19=DE\\&REF\\_AREA.19=DK\\&REF\\_AREA.19=EE\\&REF\\_AREA.19=ES\\&REF\\_AREA.19=FI\\&REF\\_AREA.19=FR\\&REF\\_AREA.19=GR\\&REF\\_AREA.19=HR\\&REF\\_AREA.19=HU\\&REF\\_AREA.19=IE\\&REF\\_AREA.19=IT\\&REF\\_AREA.19=LT\\&REF\\_AREA.19=LU\\&REF\\_AREA.19=LV\\&REF\\_AREA.19=MT\\&REF\\_AREA.19=NL\\&REF\\_AREA.19=PL\\&REF\\_AREA.19=PT\\&REF\\_AREA.19=RO\\&REF\\_AREA.19=SE\\&REF\\_AREA.19=SI\\&REF\\_AREA.19=SK\\&ICP\\_ITEM.19=000000\\&ICP\\_SUFFIX.19=ANR\\&MAX\\_DOWNLOAD\\_SERIES=500\\&SERIES\\_MAX\\_NUM=50\\&node=9691209\\&legendRef=reference\\&legendNor=\\&SERIES\\_KEY\\_checkall=on\\&SERIES\\_KEY=122.ICP.M.BG.N.000000.4.ANR\\&SERIES\\_KEY=122.ICP.M.CZ.N.000000.4.ANR\\&SERIES\\_KEY=122.ICP.M.DK.N.000000.4.ANR\\&SERIES\\_KEY=122.ICP.M.HR.N.000000.4.ANR\\&SERIES\\_KEY=122.ICP.M.HU.N.000000.4.ANR\\&SERIES\\_KEY=122.ICP.M.PL.N.000000.4.ANR\\&SERIES\\_KEY=122.ICP.M.RO.N.000000.4.ANR\\&SERIES\\_KEY=122.ICP.M.SE.N.000000.4.ANR\\&SERIES\\_KEY=122.ICP.M.AT.N.000000.4.ANR\\&SERIES\\_KEY=122.ICP.M.BE.N.000000.4.ANR\\&SERIES\\_KEY=122.ICP.M.CY.N.000000.4.ANR\\&SERIES\\_KEY=122.ICP.M.D0.N.000000.4.ANR\\&SERIES\\_KEY=122.ICP.M.DE.N.000000.4.ANR\\&SERIES\\_KEY=122.ICP.M.EE.N.000000.4.ANR\\&SERIES\\_KEY=122.ICP.M.ES.N.000000.4.ANR\\&SERIES\\_KEY=122.ICP.M.FI.N.000000.4.ANR\\&SERIES\\_KEY=122.ICP.M.FR.N.000000.4.ANR\\&SERIES\\_KEY=122.ICP.M.GR.N.000000.4.ANR\\&SERIES\\_KEY=122.ICP.M.IE.N.000000.4.ANR\\&SERIES\\_KEY=122.ICP.M.IT.N.000000.4.ANR\\&SERIES\\_KEY=122.ICP.M.LT.N.000000.4.ANR\\&SERIES\\_KEY=122.ICP.M.LU.N.000000.4.ANR\\&SERIES\\_KEY=122.ICP.M.LV.N.000000.4.ANR\\&SERIES\\_KEY=122.ICP.M.MT.N.000000.4.ANR\\&SERIES\\_KEY=122.ICP.M.NL.N.000000.4.ANR\\&SERIES\\_KEY=122.ICP.M.PT.N.000000.4.ANR\\&SERIES\\_KEY=122.ICP.M.SI.N.000000.4.ANR\\&SERIES\\_KEY=122.ICP.M.SK.N.000000.4.ANR'\n",
       "\\item ',ICP.M.AT.N.000000.4.ANR,ICP.M.BE.N.000000.4.ANR,ICP.M.BG.N.000000.4.ANR,ICP.M.CY.N.000000.4.ANR,ICP.M.CZ.N.000000.4.ANR,ICP.M.D0.N.000000.4.ANR,ICP.M.DE.N.000000.4.ANR,ICP.M.DK.N.000000.4.ANR,ICP.M.EE.N.000000.4.ANR,ICP.M.ES.N.000000.4.ANR,ICP.M.FI.N.000000.4.ANR,ICP.M.FR.N.000000.4.ANR,ICP.M.GR.N.000000.4.ANR,ICP.M.HR.N.000000.4.ANR,ICP.M.HU.N.000000.4.ANR,ICP.M.IE.N.000000.4.ANR,ICP.M.IT.N.000000.4.ANR,ICP.M.LT.N.000000.4.ANR,ICP.M.LU.N.000000.4.ANR,ICP.M.LV.N.000000.4.ANR,ICP.M.MT.N.000000.4.ANR,ICP.M.NL.N.000000.4.ANR,ICP.M.PL.N.000000.4.ANR,ICP.M.PT.N.000000.4.ANR,ICP.M.RO.N.000000.4.ANR,ICP.M.SE.N.000000.4.ANR,ICP.M.SI.N.000000.4.ANR,ICP.M.SK.N.000000.4.ANR'\n",
       "\\item ',Austria,Belgium,Bulgaria,Cyprus,Czech Republic,EU (changing composition),Germany,Denmark,Estonia,Spain,Finland,France,Greece,Croatia,Hungary,Ireland,Italy,Lithuania,Luxembourg,Latvia,Malta,Netherlands,Poland,Portugal,Romania,Sweden,Slovenia,Slovakia'\n",
       "\\end{enumerate*}\n"
      ],
      "text/markdown": [
       "1. 'Data Source in SDW: https://sdw.ecb.europa.eu/browseChart.do?org.apache.struts.taglib.html.TOKEN=46c52daef2587d98a7880dbacfe169eb&amp;df=true&amp;ec=&amp;dc=&amp;oc=&amp;pb=&amp;rc=&amp;DATASET=0&amp;removeItem=&amp;removedItemList=&amp;mergeFilter=&amp;activeTab=ICP&amp;showHide=&amp;REF_AREA.19=AT&amp;REF_AREA.19=BE&amp;REF_AREA.19=BG&amp;REF_AREA.19=CY&amp;REF_AREA.19=CZ&amp;REF_AREA.19=D0&amp;REF_AREA.19=DE&amp;REF_AREA.19=DK&amp;REF_AREA.19=EE&amp;REF_AREA.19=ES&amp;REF_AREA.19=FI&amp;REF_AREA.19=FR&amp;REF_AREA.19=GR&amp;REF_AREA.19=HR&amp;REF_AREA.19=HU&amp;REF_AREA.19=IE&amp;REF_AREA.19=IT&amp;REF_AREA.19=LT&amp;REF_AREA.19=LU&amp;REF_AREA.19=LV&amp;REF_AREA.19=MT&amp;REF_AREA.19=NL&amp;REF_AREA.19=PL&amp;REF_AREA.19=PT&amp;REF_AREA.19=RO&amp;REF_AREA.19=SE&amp;REF_AREA.19=SI&amp;REF_AREA.19=SK&amp;ICP_ITEM.19=000000&amp;ICP_SUFFIX.19=ANR&amp;MAX_DOWNLOAD_SERIES=500&amp;SERIES_MAX_NUM=50&amp;node=9691209&amp;legendRef=reference&amp;legendNor=&amp;SERIES_KEY_checkall=on&amp;SERIES_KEY=122.ICP.M.BG.N.000000.4.ANR&amp;SERIES_KEY=122.ICP.M.CZ.N.000000.4.ANR&amp;SERIES_KEY=122.ICP.M.DK.N.000000.4.ANR&amp;SERIES_KEY=122.ICP.M.HR.N.000000.4.ANR&amp;SERIES_KEY=122.ICP.M.HU.N.000000.4.ANR&amp;SERIES_KEY=122.ICP.M.PL.N.000000.4.ANR&amp;SERIES_KEY=122.ICP.M.RO.N.000000.4.ANR&amp;SERIES_KEY=122.ICP.M.SE.N.000000.4.ANR&amp;SERIES_KEY=122.ICP.M.AT.N.000000.4.ANR&amp;SERIES_KEY=122.ICP.M.BE.N.000000.4.ANR&amp;SERIES_KEY=122.ICP.M.CY.N.000000.4.ANR&amp;SERIES_KEY=122.ICP.M.D0.N.000000.4.ANR&amp;SERIES_KEY=122.ICP.M.DE.N.000000.4.ANR&amp;SERIES_KEY=122.ICP.M.EE.N.000000.4.ANR&amp;SERIES_KEY=122.ICP.M.ES.N.000000.4.ANR&amp;SERIES_KEY=122.ICP.M.FI.N.000000.4.ANR&amp;SERIES_KEY=122.ICP.M.FR.N.000000.4.ANR&amp;SERIES_KEY=122.ICP.M.GR.N.000000.4.ANR&amp;SERIES_KEY=122.ICP.M.IE.N.000000.4.ANR&amp;SERIES_KEY=122.ICP.M.IT.N.000000.4.ANR&amp;SERIES_KEY=122.ICP.M.LT.N.000000.4.ANR&amp;SERIES_KEY=122.ICP.M.LU.N.000000.4.ANR&amp;SERIES_KEY=122.ICP.M.LV.N.000000.4.ANR&amp;SERIES_KEY=122.ICP.M.MT.N.000000.4.ANR&amp;SERIES_KEY=122.ICP.M.NL.N.000000.4.ANR&amp;SERIES_KEY=122.ICP.M.PT.N.000000.4.ANR&amp;SERIES_KEY=122.ICP.M.SI.N.000000.4.ANR&amp;SERIES_KEY=122.ICP.M.SK.N.000000.4.ANR'\n",
       "2. ',ICP.M.AT.N.000000.4.ANR,ICP.M.BE.N.000000.4.ANR,ICP.M.BG.N.000000.4.ANR,ICP.M.CY.N.000000.4.ANR,ICP.M.CZ.N.000000.4.ANR,ICP.M.D0.N.000000.4.ANR,ICP.M.DE.N.000000.4.ANR,ICP.M.DK.N.000000.4.ANR,ICP.M.EE.N.000000.4.ANR,ICP.M.ES.N.000000.4.ANR,ICP.M.FI.N.000000.4.ANR,ICP.M.FR.N.000000.4.ANR,ICP.M.GR.N.000000.4.ANR,ICP.M.HR.N.000000.4.ANR,ICP.M.HU.N.000000.4.ANR,ICP.M.IE.N.000000.4.ANR,ICP.M.IT.N.000000.4.ANR,ICP.M.LT.N.000000.4.ANR,ICP.M.LU.N.000000.4.ANR,ICP.M.LV.N.000000.4.ANR,ICP.M.MT.N.000000.4.ANR,ICP.M.NL.N.000000.4.ANR,ICP.M.PL.N.000000.4.ANR,ICP.M.PT.N.000000.4.ANR,ICP.M.RO.N.000000.4.ANR,ICP.M.SE.N.000000.4.ANR,ICP.M.SI.N.000000.4.ANR,ICP.M.SK.N.000000.4.ANR'\n",
       "3. ',Austria,Belgium,Bulgaria,Cyprus,Czech Republic,EU (changing composition),Germany,Denmark,Estonia,Spain,Finland,France,Greece,Croatia,Hungary,Ireland,Italy,Lithuania,Luxembourg,Latvia,Malta,Netherlands,Poland,Portugal,Romania,Sweden,Slovenia,Slovakia'\n",
       "\n",
       "\n"
      ],
      "text/plain": [
       "[1] \"Data Source in SDW: https://sdw.ecb.europa.eu/browseChart.do?org.apache.struts.taglib.html.TOKEN=46c52daef2587d98a7880dbacfe169eb&df=true&ec=&dc=&oc=&pb=&rc=&DATASET=0&removeItem=&removedItemList=&mergeFilter=&activeTab=ICP&showHide=&REF_AREA.19=AT&REF_AREA.19=BE&REF_AREA.19=BG&REF_AREA.19=CY&REF_AREA.19=CZ&REF_AREA.19=D0&REF_AREA.19=DE&REF_AREA.19=DK&REF_AREA.19=EE&REF_AREA.19=ES&REF_AREA.19=FI&REF_AREA.19=FR&REF_AREA.19=GR&REF_AREA.19=HR&REF_AREA.19=HU&REF_AREA.19=IE&REF_AREA.19=IT&REF_AREA.19=LT&REF_AREA.19=LU&REF_AREA.19=LV&REF_AREA.19=MT&REF_AREA.19=NL&REF_AREA.19=PL&REF_AREA.19=PT&REF_AREA.19=RO&REF_AREA.19=SE&REF_AREA.19=SI&REF_AREA.19=SK&ICP_ITEM.19=000000&ICP_SUFFIX.19=ANR&MAX_DOWNLOAD_SERIES=500&SERIES_MAX_NUM=50&node=9691209&legendRef=reference&legendNor=&SERIES_KEY_checkall=on&SERIES_KEY=122.ICP.M.BG.N.000000.4.ANR&SERIES_KEY=122.ICP.M.CZ.N.000000.4.ANR&SERIES_KEY=122.ICP.M.DK.N.000000.4.ANR&SERIES_KEY=122.ICP.M.HR.N.000000.4.ANR&SERIES_KEY=122.ICP.M.HU.N.000000.4.ANR&SERIES_KEY=122.ICP.M.PL.N.000000.4.ANR&SERIES_KEY=122.ICP.M.RO.N.000000.4.ANR&SERIES_KEY=122.ICP.M.SE.N.000000.4.ANR&SERIES_KEY=122.ICP.M.AT.N.000000.4.ANR&SERIES_KEY=122.ICP.M.BE.N.000000.4.ANR&SERIES_KEY=122.ICP.M.CY.N.000000.4.ANR&SERIES_KEY=122.ICP.M.D0.N.000000.4.ANR&SERIES_KEY=122.ICP.M.DE.N.000000.4.ANR&SERIES_KEY=122.ICP.M.EE.N.000000.4.ANR&SERIES_KEY=122.ICP.M.ES.N.000000.4.ANR&SERIES_KEY=122.ICP.M.FI.N.000000.4.ANR&SERIES_KEY=122.ICP.M.FR.N.000000.4.ANR&SERIES_KEY=122.ICP.M.GR.N.000000.4.ANR&SERIES_KEY=122.ICP.M.IE.N.000000.4.ANR&SERIES_KEY=122.ICP.M.IT.N.000000.4.ANR&SERIES_KEY=122.ICP.M.LT.N.000000.4.ANR&SERIES_KEY=122.ICP.M.LU.N.000000.4.ANR&SERIES_KEY=122.ICP.M.LV.N.000000.4.ANR&SERIES_KEY=122.ICP.M.MT.N.000000.4.ANR&SERIES_KEY=122.ICP.M.NL.N.000000.4.ANR&SERIES_KEY=122.ICP.M.PT.N.000000.4.ANR&SERIES_KEY=122.ICP.M.SI.N.000000.4.ANR&SERIES_KEY=122.ICP.M.SK.N.000000.4.ANR\"\n",
       "[2] \",ICP.M.AT.N.000000.4.ANR,ICP.M.BE.N.000000.4.ANR,ICP.M.BG.N.000000.4.ANR,ICP.M.CY.N.000000.4.ANR,ICP.M.CZ.N.000000.4.ANR,ICP.M.D0.N.000000.4.ANR,ICP.M.DE.N.000000.4.ANR,ICP.M.DK.N.000000.4.ANR,ICP.M.EE.N.000000.4.ANR,ICP.M.ES.N.000000.4.ANR,ICP.M.FI.N.000000.4.ANR,ICP.M.FR.N.000000.4.ANR,ICP.M.GR.N.000000.4.ANR,ICP.M.HR.N.000000.4.ANR,ICP.M.HU.N.000000.4.ANR,ICP.M.IE.N.000000.4.ANR,ICP.M.IT.N.000000.4.ANR,ICP.M.LT.N.000000.4.ANR,ICP.M.LU.N.000000.4.ANR,ICP.M.LV.N.000000.4.ANR,ICP.M.MT.N.000000.4.ANR,ICP.M.NL.N.000000.4.ANR,ICP.M.PL.N.000000.4.ANR,ICP.M.PT.N.000000.4.ANR,ICP.M.RO.N.000000.4.ANR,ICP.M.SE.N.000000.4.ANR,ICP.M.SI.N.000000.4.ANR,ICP.M.SK.N.000000.4.ANR\"                                                                                                                                                                                                                                                                                                                                                                                                                                                                                                                                                                                                                                                                                                                                                                                                                                                                                                                                                                                                                                                                                                                                                                                                                                                                   \n",
       "[3] \",Austria,Belgium,Bulgaria,Cyprus,Czech Republic,EU (changing composition),Germany,Denmark,Estonia,Spain,Finland,France,Greece,Croatia,Hungary,Ireland,Italy,Lithuania,Luxembourg,Latvia,Malta,Netherlands,Poland,Portugal,Romania,Sweden,Slovenia,Slovakia\"                                                                                                                                                                                                                                                                                                                                                                                                                                                                                                                                                                                                                                                                                                                                                                                                                                                                                                                                                                                                                                                                                                                                                                                                                                                                                                                                                                                                                                                                                                                                                                                                                                                                                                         "
      ]
     },
     "metadata": {},
     "output_type": "display_data"
    }
   ],
   "source": [
    "eu_deposits <- \"EU_deposits_1yr_data.csv\"\n",
    "eu_inflation <- \"EU_Inflation_HICP_data.csv\"\n",
    "# Check if our data have title row and what is the delimiter\n",
    "read_lines(eu_deposits, n_max = 3)\n",
    "read_lines(eu_inflation, n_max = 3)\n"
   ]
  },
  {
   "cell_type": "code",
   "execution_count": 7,
   "id": "cf7ca698",
   "metadata": {},
   "outputs": [
    {
     "name": "stderr",
     "output_type": "stream",
     "text": [
      "\u001b[1m\u001b[22mNew names:\n",
      "\u001b[36m•\u001b[39m `` -> `...1`\n",
      "\u001b[1mRows: \u001b[22m\u001b[34m516\u001b[39m \u001b[1mColumns: \u001b[22m\u001b[34m34\u001b[39m\n",
      "\u001b[36m──\u001b[39m \u001b[1mColumn specification\u001b[22m \u001b[36m────────────────────────────────────────────────────────\u001b[39m\n",
      "\u001b[1mDelimiter:\u001b[22m \",\"\n",
      "\u001b[31mchr\u001b[39m (34): ...1, MIR.M.AT.B.L22.F.R.A.2250.EUR.N, MIR.M.BE.B.L22.F.R.A.2250.E...\n",
      "\n",
      "\u001b[36mℹ\u001b[39m Use `spec()` to retrieve the full column specification for this data.\n",
      "\u001b[36mℹ\u001b[39m Specify the column types or set `show_col_types = FALSE` to quiet this message.\n",
      "\u001b[1m\u001b[22mNew names:\n",
      "\u001b[36m•\u001b[39m `` -> `...1`\n",
      "\u001b[1mRows: \u001b[22m\u001b[34m421\u001b[39m \u001b[1mColumns: \u001b[22m\u001b[34m29\u001b[39m\n",
      "\u001b[36m──\u001b[39m \u001b[1mColumn specification\u001b[22m \u001b[36m────────────────────────────────────────────────────────\u001b[39m\n",
      "\u001b[1mDelimiter:\u001b[22m \",\"\n",
      "\u001b[31mchr\u001b[39m (29): ...1, ICP.M.AT.N.000000.4.ANR, ICP.M.BE.N.000000.4.ANR, ICP.M.BG.N...\n",
      "\n",
      "\u001b[36mℹ\u001b[39m Use `spec()` to retrieve the full column specification for this data.\n",
      "\u001b[36mℹ\u001b[39m Specify the column types or set `show_col_types = FALSE` to quiet this message.\n"
     ]
    }
   ],
   "source": [
    "eu_deposits_data <- read_csv(eu_deposits, skip=1)\n",
    "colnames(eu_deposits_data) <- make.names(colnames(eu_deposits_data))\n",
    "eu_inflation_data <- read_csv(eu_inflation, skip=1)\n",
    "colnames(eu_inflation_data) <- make.names(colnames(eu_inflation_data))"
   ]
  },
  {
   "cell_type": "code",
   "execution_count": null,
   "id": "50705329",
   "metadata": {},
   "outputs": [],
   "source": []
  }
 ],
 "metadata": {
  "kernelspec": {
   "display_name": "R",
   "language": "R",
   "name": "ir"
  },
  "language_info": {
   "codemirror_mode": "r",
   "file_extension": ".r",
   "mimetype": "text/x-r-source",
   "name": "R",
   "pygments_lexer": "r",
   "version": "4.1.3"
  }
 },
 "nbformat": 4,
 "nbformat_minor": 5
}
